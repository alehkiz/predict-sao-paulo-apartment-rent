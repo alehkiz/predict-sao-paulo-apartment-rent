{
 "cells": [
  {
   "cell_type": "code",
   "execution_count": 77,
   "id": "4c5ad882",
   "metadata": {},
   "outputs": [],
   "source": [
    "import pandas as pd\n",
    "import numpy as np\n",
    "\n",
    "from sklearn.preprocessing import OrdinalEncoder, MinMaxScaler\n",
    "from sklearn.linear_model import LinearRegression\n",
    "from sklearn.metrics import mean_absolute_percentage_error as mape, mean_absolute_error as mae\n",
    "from sklearn.model_selection import cross_val_score, KFold, train_test_split, GridSearchCV\n",
    "from scipy.stats import norm, probplot\n",
    "from sklearn.model_selection import cross_val_score\n",
    "from sklearn.ensemble import RandomForestRegressor\n",
    "from sklearn.pipeline import Pipeline\n",
    "from sklearn.impute import SimpleImputer\n",
    "import warnings\n",
    "import seaborn as sns\n",
    "import matplotlib.pyplot as plt"
   ]
  },
  {
   "cell_type": "code",
   "execution_count": 81,
   "id": "1e5a3c76",
   "metadata": {},
   "outputs": [],
   "source": [
    "warnings.simplefilter(\"ignore\")"
   ]
  },
  {
   "cell_type": "code",
   "execution_count": 39,
   "id": "2eb1910d",
   "metadata": {},
   "outputs": [],
   "source": [
    "def score_(X_train, X_valid, y_train, y_valid):\n",
    "    '''\n",
    "    Score model with Mean Absolute Error\n",
    "    '''\n",
    "    model = LinearRegression(n_jobs=5)\n",
    "    model.fit(X_train, y_train)\n",
    "    preds = model.predict(X_valid)\n",
    "    return mae(y_valid, preds)"
   ]
  },
  {
   "cell_type": "code",
   "execution_count": 46,
   "id": "b721f397",
   "metadata": {},
   "outputs": [],
   "source": [
    "df = pd.read_excel('data/dados.xlsx')"
   ]
  },
  {
   "cell_type": "code",
   "execution_count": 47,
   "id": "38d0516f",
   "metadata": {},
   "outputs": [],
   "source": [
    "# def get_area_type(row):\n",
    "#     _v = df2[df2.url == row.url]\n",
    "#     return _v.loc[_v.index[0], ['area', 'type']]"
   ]
  },
  {
   "cell_type": "code",
   "execution_count": 48,
   "id": "e5be2c73",
   "metadata": {},
   "outputs": [],
   "source": [
    "df['ID'] = df.url.map(lambda x : x.rsplit('-')[-1].replace('/', ''))"
   ]
  },
  {
   "cell_type": "code",
   "execution_count": 49,
   "id": "96bfd54c",
   "metadata": {},
   "outputs": [],
   "source": [
    "#removendo colunas desnecessárias\n",
    "df.drop(columns=['address', 'amenities', 'title', 'address_class', 'url', 'geocode'], inplace=True)"
   ]
  },
  {
   "cell_type": "markdown",
   "id": "6a5ff5c4",
   "metadata": {},
   "source": [
    "Quais são os dados nulos?"
   ]
  },
  {
   "cell_type": "code",
   "execution_count": 50,
   "id": "22742387",
   "metadata": {},
   "outputs": [
    {
     "data": {
      "text/plain": [
       "bathrooms                 0\n",
       "Condomínio                0\n",
       "Preço c/ condomínio       0\n",
       "IPTU                      0\n",
       "type                      0\n",
       "ID                        0\n",
       "postcode                188\n",
       "rent                    260\n",
       "area                    260\n",
       "bedrooms                324\n",
       "suburb                  407\n",
       "parking                 607\n",
       "city_district          1031\n",
       "dtype: int64"
      ]
     },
     "execution_count": 50,
     "metadata": {},
     "output_type": "execute_result"
    }
   ],
   "source": [
    "df.isna().sum().sort_values()"
   ]
  },
  {
   "cell_type": "code",
   "execution_count": 51,
   "id": "934122f5",
   "metadata": {},
   "outputs": [],
   "source": [
    "def trata_bairro(row):\n",
    "    '''\n",
    "    Função para retornar o campo bairro.\n",
    "    '''\n",
    "    if pd.isna(row['suburb']) and pd.isna(row['city_district']):\n",
    "        return np.nan\n",
    "    if not pd.isna(row['suburb']):\n",
    "        return row['suburb']\n",
    "    elif not pd.isna(row['city_district']):\n",
    "        return row['city_district']\n",
    "    return 'Analisar'\n",
    "#     elif row['suburb'] == row['city_district']:\n",
    "#         return row['city_district']\n",
    "#     else: \n",
    "#         return 'Diferente'"
   ]
  },
  {
   "cell_type": "code",
   "execution_count": 52,
   "id": "9300ec85",
   "metadata": {},
   "outputs": [],
   "source": [
    "df['bairro'] = df.apply(trata_bairro, axis=1)"
   ]
  },
  {
   "cell_type": "markdown",
   "id": "e2b3d904",
   "metadata": {},
   "source": [
    "Quais os registros sem bairro?"
   ]
  },
  {
   "cell_type": "code",
   "execution_count": 53,
   "id": "51f2fb77",
   "metadata": {},
   "outputs": [
    {
     "data": {
      "text/html": [
       "<div>\n",
       "<style scoped>\n",
       "    .dataframe tbody tr th:only-of-type {\n",
       "        vertical-align: middle;\n",
       "    }\n",
       "\n",
       "    .dataframe tbody tr th {\n",
       "        vertical-align: top;\n",
       "    }\n",
       "\n",
       "    .dataframe thead th {\n",
       "        text-align: right;\n",
       "    }\n",
       "</style>\n",
       "<table border=\"1\" class=\"dataframe\">\n",
       "  <thead>\n",
       "    <tr style=\"text-align: right;\">\n",
       "      <th></th>\n",
       "      <th>bedrooms</th>\n",
       "      <th>bathrooms</th>\n",
       "      <th>parking</th>\n",
       "      <th>rent</th>\n",
       "      <th>Condomínio</th>\n",
       "      <th>Preço c/ condomínio</th>\n",
       "      <th>IPTU</th>\n",
       "      <th>suburb</th>\n",
       "      <th>city_district</th>\n",
       "      <th>postcode</th>\n",
       "      <th>area</th>\n",
       "      <th>type</th>\n",
       "      <th>ID</th>\n",
       "      <th>bairro</th>\n",
       "    </tr>\n",
       "  </thead>\n",
       "  <tbody>\n",
       "  </tbody>\n",
       "</table>\n",
       "</div>"
      ],
      "text/plain": [
       "Empty DataFrame\n",
       "Columns: [bedrooms, bathrooms, parking, rent, Condomínio, Preço c/ condomínio, IPTU, suburb, city_district, postcode, area, type, ID, bairro]\n",
       "Index: []"
      ]
     },
     "execution_count": 53,
     "metadata": {},
     "output_type": "execute_result"
    }
   ],
   "source": [
    "df[df.bairro == 'Analisar']"
   ]
  },
  {
   "cell_type": "code",
   "execution_count": 54,
   "id": "e382555b",
   "metadata": {},
   "outputs": [
    {
     "data": {
      "text/plain": [
       "323"
      ]
     },
     "execution_count": 54,
     "metadata": {},
     "output_type": "execute_result"
    }
   ],
   "source": [
    "df.bairro.isna().sum()"
   ]
  },
  {
   "cell_type": "markdown",
   "id": "a57c2222",
   "metadata": {},
   "source": [
    "Vamos remover os registros que não tenham valores na coluna bairro"
   ]
  },
  {
   "cell_type": "code",
   "execution_count": 55,
   "id": "7d456174",
   "metadata": {},
   "outputs": [],
   "source": [
    "df.dropna(subset=['bairro'], inplace=True)"
   ]
  },
  {
   "cell_type": "markdown",
   "id": "2cf4f1c4",
   "metadata": {},
   "source": [
    "Não precisamos mais das colunas `suburb` e `city_district` e `postcode` (talvez retornemos com o postcode)"
   ]
  },
  {
   "cell_type": "code",
   "execution_count": 56,
   "id": "a30040fc",
   "metadata": {},
   "outputs": [],
   "source": [
    "df.drop(columns=['suburb', 'city_district', 'postcode'], inplace=True)"
   ]
  },
  {
   "cell_type": "markdown",
   "id": "301401bf",
   "metadata": {},
   "source": [
    "O Valor do `aluguel` + `Condomínio` é examtanet o valor do proço total? Sim!!"
   ]
  },
  {
   "cell_type": "code",
   "execution_count": 57,
   "id": "23a8f18f",
   "metadata": {},
   "outputs": [],
   "source": [
    "df=df.drop(columns=['Preço c/ condomínio','IPTU','Condomínio']).rename({\n",
    "    'bedrooms':'Quartos',\n",
    "    'bathrooms':'Banheiros',\n",
    "    'rent':'Preco',\n",
    "    'bairro':'Bairro',\n",
    "    'parking': 'Estacionamento'\n",
    "}, axis=1) #[~((df['rent'].astype(int) + df['Condomínio'].astype(int)) == df['Preço c/ condomínio'].astype(int))]"
   ]
  },
  {
   "cell_type": "code",
   "execution_count": 58,
   "id": "6b2f72e0",
   "metadata": {},
   "outputs": [],
   "source": [
    "df.Quartos = df.Quartos.fillna(0).astype(int)"
   ]
  },
  {
   "cell_type": "code",
   "execution_count": 59,
   "id": "1e1f531e",
   "metadata": {},
   "outputs": [],
   "source": [
    "df.Estacionamento = df.Estacionamento.fillna(0)"
   ]
  },
  {
   "cell_type": "markdown",
   "id": "65cd78c4",
   "metadata": {},
   "source": [
    "Valores nulos?"
   ]
  },
  {
   "cell_type": "code",
   "execution_count": 60,
   "id": "b2a836ac",
   "metadata": {},
   "outputs": [
    {
     "data": {
      "text/plain": [
       "Quartos           0\n",
       "Banheiros         0\n",
       "Estacionamento    0\n",
       "Preco             0\n",
       "area              0\n",
       "type              0\n",
       "ID                0\n",
       "Bairro            0\n",
       "dtype: int64"
      ]
     },
     "execution_count": 60,
     "metadata": {},
     "output_type": "execute_result"
    }
   ],
   "source": [
    "df.isna().sum()"
   ]
  },
  {
   "cell_type": "code",
   "execution_count": 61,
   "id": "49e6f639",
   "metadata": {},
   "outputs": [],
   "source": [
    "df.reset_index(drop=True, inplace=True)"
   ]
  },
  {
   "cell_type": "code",
   "execution_count": 64,
   "id": "4271a465",
   "metadata": {},
   "outputs": [],
   "source": [
    "df.type = df.type.str.strip()"
   ]
  },
  {
   "cell_type": "code",
   "execution_count": 65,
   "id": "6647d956",
   "metadata": {},
   "outputs": [
    {
     "data": {
      "text/plain": [
       "33409.75475923852"
      ]
     },
     "execution_count": 65,
     "metadata": {},
     "output_type": "execute_result"
    }
   ],
   "source": [
    "df[df.type == 'Aluguel'].Preco.mean()"
   ]
  },
  {
   "cell_type": "code",
   "execution_count": 66,
   "id": "8e72cbfc",
   "metadata": {},
   "outputs": [
    {
     "data": {
      "text/plain": [
       "2500.0"
      ]
     },
     "execution_count": 66,
     "metadata": {},
     "output_type": "execute_result"
    }
   ],
   "source": [
    "df[df.type == 'Aluguel'].Preco.median()"
   ]
  },
  {
   "cell_type": "code",
   "execution_count": 67,
   "id": "64185bec",
   "metadata": {},
   "outputs": [
    {
     "data": {
      "text/html": [
       "<div>\n",
       "<style scoped>\n",
       "    .dataframe tbody tr th:only-of-type {\n",
       "        vertical-align: middle;\n",
       "    }\n",
       "\n",
       "    .dataframe tbody tr th {\n",
       "        vertical-align: top;\n",
       "    }\n",
       "\n",
       "    .dataframe thead th {\n",
       "        text-align: right;\n",
       "    }\n",
       "</style>\n",
       "<table border=\"1\" class=\"dataframe\">\n",
       "  <thead>\n",
       "    <tr style=\"text-align: right;\">\n",
       "      <th></th>\n",
       "      <th>type</th>\n",
       "      <th>ID</th>\n",
       "    </tr>\n",
       "  </thead>\n",
       "  <tbody>\n",
       "    <tr>\n",
       "      <th>0</th>\n",
       "      <td>Aluguel</td>\n",
       "      <td>893</td>\n",
       "    </tr>\n",
       "    <tr>\n",
       "      <th>1</th>\n",
       "      <td>Compra</td>\n",
       "      <td>214</td>\n",
       "    </tr>\n",
       "    <tr>\n",
       "      <th>2</th>\n",
       "      <td>Não informado</td>\n",
       "      <td>396</td>\n",
       "    </tr>\n",
       "  </tbody>\n",
       "</table>\n",
       "</div>"
      ],
      "text/plain": [
       "            type   ID\n",
       "0        Aluguel  893\n",
       "1         Compra  214\n",
       "2  Não informado  396"
      ]
     },
     "execution_count": 67,
     "metadata": {},
     "output_type": "execute_result"
    }
   ],
   "source": [
    "df.groupby(['type'], as_index=False).ID.count()"
   ]
  },
  {
   "cell_type": "code",
   "execution_count": 68,
   "id": "44df3827",
   "metadata": {},
   "outputs": [],
   "source": [
    "df = df[df.type == 'Aluguel']"
   ]
  },
  {
   "cell_type": "code",
   "execution_count": 69,
   "id": "53ffee70",
   "metadata": {},
   "outputs": [],
   "source": [
    "df= df[df.Preco < 50000].reset_index(drop=True)#.sort_values(by=['Preco'], ascending=False)"
   ]
  },
  {
   "cell_type": "code",
   "execution_count": 70,
   "id": "d88bb20e",
   "metadata": {},
   "outputs": [
    {
     "data": {
      "image/png": "[encoded data removed]",
      "text/plain": [
       "<Figure size 432x288 with 1 Axes>"
      ]
     },
     "metadata": {
      "needs_background": "light"
     },
     "output_type": "display_data"
    }
   ],
   "source": [
    "fig, ax= plt.subplots()\n",
    "ax.scatter(x=df['Quartos'], y=np.log(df['Preco']))\n",
    "plt.ylabel('Preço')\n",
    "plt.xlabel('Quartos')\n",
    "plt.title(\"Preço X Quantidade de Quartos\")\n",
    "plt.show()"
   ]
  },
  {
   "cell_type": "code",
   "execution_count": 75,
   "id": "b79bc6da",
   "metadata": {},
   "outputs": [
    {
     "name": "stderr",
     "output_type": "stream",
     "text": [
      "c:\\python\\lib\\site-packages\\seaborn\\distributions.py:2619: FutureWarning: `distplot` is a deprecated function and will be removed in a future version. Please adapt your code to use either `displot` (a figure-level function with similar flexibility) or `histplot` (an axes-level function for histograms).\n",
      "  warnings.warn(msg, FutureWarning)\n"
     ]
    },
    {
     "data": {
      "image/png": "[encoded data removed]",
      "text/plain": [
       "<Figure size 432x288 with 1 Axes>"
      ]
     },
     "metadata": {
      "needs_background": "light"
     },
     "output_type": "display_data"
    }
   ],
   "source": [
    "sns.distplot(df.Preco, fit=norm)\n",
    "plt.xlabel('Preço Imóvel')\n",
    "plt.ylabel('Quantidade de Imóveis')\n",
    "plt.title('Distribuição do preço')\n",
    "plt.show()"
   ]
  },
  {
   "cell_type": "markdown",
   "id": "3dec6537",
   "metadata": {},
   "source": [
    "Vamos ajustar o preço para uma distribuição `normal`"
   ]
  },
  {
   "cell_type": "code",
   "execution_count": 82,
   "id": "cd21f7e5",
   "metadata": {},
   "outputs": [
    {
     "data": {
      "image/png": "[encoded data removed]",
      "text/plain": [
       "<Figure size 432x288 with 1 Axes>"
      ]
     },
     "metadata": {
      "needs_background": "light"
     },
     "output_type": "display_data"
    }
   ],
   "source": [
    "sns.distplot(np.log(df.Preco), fit=norm)\n",
    "plt.xlabel('Preço Imóvel')\n",
    "plt.ylabel('Quantidade de Imóveis')\n",
    "plt.title('Normalizando o preço com o log')\n",
    "plt.show()"
   ]
  },
  {
   "cell_type": "code",
   "execution_count": 83,
   "id": "54f3a55e",
   "metadata": {},
   "outputs": [],
   "source": [
    "df.Preco = np.log(df.Preco)"
   ]
  },
  {
   "cell_type": "code",
   "execution_count": 84,
   "id": "890c89df",
   "metadata": {},
   "outputs": [],
   "source": [
    "df.Bairro = df.Bairro.astype(\"category\")"
   ]
  },
  {
   "cell_type": "code",
   "execution_count": 85,
   "id": "1195f094",
   "metadata": {},
   "outputs": [],
   "source": [
    "X = df.drop(columns=['Preco', 'type'])\n",
    "y = df['Preco']"
   ]
  },
  {
   "cell_type": "markdown",
   "id": "a61d0b9f",
   "metadata": {},
   "source": [
    "### Aplicando OrdinalEncoder"
   ]
  },
  {
   "cell_type": "code",
   "execution_count": 86,
   "id": "caba2ba6",
   "metadata": {},
   "outputs": [
    {
     "name": "stdout",
     "output_type": "stream",
     "text": [
      "Mean Absolute Error com OrdinalEnconder:\n",
      "0.39196923902539\n"
     ]
    }
   ],
   "source": [
    "# Vamos criar nossa base de treino e teste\n",
    "X_train, X_test, y_train, y_test = train_test_split(X, y, test_size=0.4, random_state=42)\n",
    "# Vamos criar uma cópia para evitar alterações\n",
    "label_X_train = X_train.copy()\n",
    "label_X_test = X_test.copy()\n",
    "\n",
    "# Vamos aplicar o OrdinarEnconder para a coluna categoria, que no caso é apenas o bairro\n",
    "ordinal_encoder = OrdinalEncoder(handle_unknown='use_encoded_value', unknown_value=-1)\n",
    "\n",
    "label_X_train[['Bairro']] = ordinal_encoder.fit_transform(X_train[['Bairro']])\n",
    "label_X_test[['Bairro']] = ordinal_encoder.transform(X_test[['Bairro']])\n",
    "\n",
    "print(\"Mean Absolute Error com OrdinalEnconder:\") \n",
    "print(score_(label_X_train, label_X_test, y_train, y_test))"
   ]
  },
  {
   "cell_type": "markdown",
   "id": "78484ed3",
   "metadata": {},
   "source": [
    "### Cross validation score"
   ]
  },
  {
   "cell_type": "code",
   "execution_count": 87,
   "id": "041743b4",
   "metadata": {
    "scrolled": false
   },
   "outputs": [
    {
     "data": {
      "text/plain": [
       "array([0.0187944 , 0.53705931, 0.56353485, 0.52732283, 0.52995758])"
      ]
     },
     "execution_count": 87,
     "metadata": {},
     "output_type": "execute_result"
    }
   ],
   "source": [
    "scores = cross_val_score(LinearRegression(fit_intercept=False, n_jobs=1, positive=True), label_X_train, y_train, cv=5)\n",
    "scores"
   ]
  },
  {
   "cell_type": "markdown",
   "id": "f7c53720",
   "metadata": {},
   "source": [
    "#### Criando um pipeline"
   ]
  },
  {
   "cell_type": "code",
   "execution_count": 89,
   "id": "3dde4f42",
   "metadata": {},
   "outputs": [
    {
     "data": {
      "text/plain": [
       "array([0.48519985, 0.34142375, 0.37563715, 0.34462258, 0.37652179])"
      ]
     },
     "execution_count": 89,
     "metadata": {},
     "output_type": "execute_result"
    }
   ],
   "source": [
    "n_estimators = 5\n",
    "pipe = Pipeline(steps=[\n",
    "    #('preprocessor', SimpleImputer()),\n",
    "    (\"normalizacao\", MinMaxScaler()),\n",
    "    ('model', LinearRegression(n_jobs=5))\n",
    "])\n",
    "scores = -1 * cross_val_score(pipe, label_X_train, y_train,\n",
    "                          cv=5,\n",
    "                          scoring='neg_mean_absolute_error')\n",
    "scores"
   ]
  },
  {
   "cell_type": "code",
   "execution_count": null,
   "id": "8d695d75",
   "metadata": {},
   "outputs": [],
   "source": []
  }
 ],
 "metadata": {
  "kernelspec": {
   "display_name": "Python 3",
   "language": "python",
   "name": "python3"
  },
  "language_info": {
   "codemirror_mode": {
    "name": "ipython",
    "version": 3
   },
   "file_extension": ".py",
   "mimetype": "text/x-python",
   "name": "python",
   "nbconvert_exporter": "python",
   "pygments_lexer": "ipython3",
   "version": "3.9.5"
  }
 },
 "nbformat": 4,
 "nbformat_minor": 5
}
