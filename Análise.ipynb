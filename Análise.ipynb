{
 "cells": [
  {
   "cell_type": "code",
   "execution_count": 706,
   "id": "4c5ad882",
   "metadata": {},
   "outputs": [],
   "source": [
    "import pandas as pd\n",
    "import numpy as np\n",
    "from sklearn.preprocessing import OrdinalEncoder, MinMaxScaler, StandardScaler\n",
    "from sklearn.linear_model import LinearRegression\n",
    "from sklearn.metrics import mean_absolute_percentage_error as mape, mean_absolute_error as mae\n",
    "from sklearn.model_selection import cross_val_score, KFold, train_test_split, GridSearchCV\n",
    "from scipy.stats import norm, probplot\n",
    "from sklearn.model_selection import cross_val_score\n",
    "from sklearn.ensemble import RandomForestRegressor\n",
    "from sklearn.pipeline import Pipeline\n",
    "from sklearn.impute import SimpleImputer\n",
    "from sklearn.decomposition import PCA\n",
    "\n",
    "from scipy.special import boxcox1p, inv_boxcox, inv_boxcox1p\n",
    "\n",
    "import seaborn as sns\n",
    "import matplotlib.pyplot as plt"
   ]
  },
  {
   "cell_type": "code",
   "execution_count": 707,
   "id": "2eb1910d",
   "metadata": {},
   "outputs": [],
   "source": [
    "def score_(X_train, X_valid, y_train, y_valid):\n",
    "    '''\n",
    "    Score model with Mean Absolute Error\n",
    "    '''\n",
    "    model = LinearRegression(n_jobs=5)\n",
    "    model.fit(X_train, y_train)\n",
    "    preds = model.predict(X_valid)\n",
    "    return mae(y_valid, preds)"
   ]
  },
  {
   "cell_type": "code",
   "execution_count": 708,
   "id": "b721f397",
   "metadata": {},
   "outputs": [
    {
     "data": {
      "text/html": [
       "<div>\n",
       "<style scoped>\n",
       "    .dataframe tbody tr th:only-of-type {\n",
       "        vertical-align: middle;\n",
       "    }\n",
       "\n",
       "    .dataframe tbody tr th {\n",
       "        vertical-align: top;\n",
       "    }\n",
       "\n",
       "    .dataframe thead th {\n",
       "        text-align: right;\n",
       "    }\n",
       "</style>\n",
       "<table border=\"1\" class=\"dataframe\">\n",
       "  <thead>\n",
       "    <tr style=\"text-align: right;\">\n",
       "      <th></th>\n",
       "      <th>address</th>\n",
       "      <th>url</th>\n",
       "      <th>bedrooms</th>\n",
       "      <th>bathrooms</th>\n",
       "      <th>parking</th>\n",
       "      <th>amenities</th>\n",
       "      <th>title</th>\n",
       "      <th>rent</th>\n",
       "      <th>Condomínio</th>\n",
       "      <th>Preço c/ condomínio</th>\n",
       "      <th>IPTU</th>\n",
       "      <th>geocode</th>\n",
       "      <th>suburb</th>\n",
       "      <th>city_district</th>\n",
       "      <th>address_class</th>\n",
       "      <th>postcode</th>\n",
       "      <th>area</th>\n",
       "      <th>type</th>\n",
       "    </tr>\n",
       "  </thead>\n",
       "  <tbody>\n",
       "    <tr>\n",
       "      <th>0</th>\n",
       "      <td>Avenida Doutor Mário Vilas Boas Rodrigues, 175...</td>\n",
       "      <td>https://www.vivareal.com.br/imovel/apartamento...</td>\n",
       "      <td>2.0</td>\n",
       "      <td>21</td>\n",
       "      <td>1.0</td>\n",
       "      <td>['Academia', 'Ar-condicionado', 'Churrasqueira...</td>\n",
       "      <td>Apartamento com 2 Quartos e 2 banheiros para...</td>\n",
       "      <td>3900.0</td>\n",
       "      <td>746</td>\n",
       "      <td>4646</td>\n",
       "      <td>225</td>\n",
       "      <td>Avenida Doutor Mário Vilas Boas Rodrigues, San...</td>\n",
       "      <td>NaN</td>\n",
       "      <td>Santo Amaro</td>\n",
       "      <td>0.0</td>\n",
       "      <td>04757-000</td>\n",
       "      <td>80.0</td>\n",
       "      <td>Aluguel</td>\n",
       "    </tr>\n",
       "    <tr>\n",
       "      <th>1</th>\n",
       "      <td>Rua Fulgêncio Vertello - Cidade Dutra, São Pau...</td>\n",
       "      <td>https://www.vivareal.com.br/imovel/sobrado-1-q...</td>\n",
       "      <td>1.0</td>\n",
       "      <td>1</td>\n",
       "      <td>NaN</td>\n",
       "      <td>[]</td>\n",
       "      <td>Sobrado com 1 Quarto e 1 banheiro para Aluga...</td>\n",
       "      <td>900.0</td>\n",
       "      <td>0</td>\n",
       "      <td>0</td>\n",
       "      <td>0</td>\n",
       "      <td>Rua Fulgêncio Vertello, Cidade Dutra, São Paul...</td>\n",
       "      <td>Cidade Dutra</td>\n",
       "      <td>NaN</td>\n",
       "      <td>0.0</td>\n",
       "      <td>04823-280</td>\n",
       "      <td>40.0</td>\n",
       "      <td>Aluguel</td>\n",
       "    </tr>\n",
       "    <tr>\n",
       "      <th>2</th>\n",
       "      <td>Mirandópolis, São Paulo - SP</td>\n",
       "      <td>https://www.vivareal.com.br/imovel/apartamento...</td>\n",
       "      <td>1.0</td>\n",
       "      <td>1</td>\n",
       "      <td>1.0</td>\n",
       "      <td>['Academia', 'Churrasqueira', 'Piscina']</td>\n",
       "      <td>Apartamento com 1 Quarto e 1 banheiro para A...</td>\n",
       "      <td>2500.0</td>\n",
       "      <td>726</td>\n",
       "      <td>3226</td>\n",
       "      <td>0</td>\n",
       "      <td>Mirandópolis, Região Imediata de Andradina, Re...</td>\n",
       "      <td>NaN</td>\n",
       "      <td>NaN</td>\n",
       "      <td>0.0</td>\n",
       "      <td>16800-000</td>\n",
       "      <td>38.0</td>\n",
       "      <td>Aluguel</td>\n",
       "    </tr>\n",
       "  </tbody>\n",
       "</table>\n",
       "</div>"
      ],
      "text/plain": [
       "                                             address  \\\n",
       "0  Avenida Doutor Mário Vilas Boas Rodrigues, 175...   \n",
       "1  Rua Fulgêncio Vertello - Cidade Dutra, São Pau...   \n",
       "2                       Mirandópolis, São Paulo - SP   \n",
       "\n",
       "                                                 url  bedrooms  bathrooms  \\\n",
       "0  https://www.vivareal.com.br/imovel/apartamento...       2.0         21   \n",
       "1  https://www.vivareal.com.br/imovel/sobrado-1-q...       1.0          1   \n",
       "2  https://www.vivareal.com.br/imovel/apartamento...       1.0          1   \n",
       "\n",
       "   parking                                          amenities  \\\n",
       "0      1.0  ['Academia', 'Ar-condicionado', 'Churrasqueira...   \n",
       "1      NaN                                                 []   \n",
       "2      1.0           ['Academia', 'Churrasqueira', 'Piscina']   \n",
       "\n",
       "                                               title    rent  Condomínio  \\\n",
       "0    Apartamento com 2 Quartos e 2 banheiros para...  3900.0         746   \n",
       "1    Sobrado com 1 Quarto e 1 banheiro para Aluga...   900.0           0   \n",
       "2    Apartamento com 1 Quarto e 1 banheiro para A...  2500.0         726   \n",
       "\n",
       "   Preço c/ condomínio  IPTU  \\\n",
       "0                 4646   225   \n",
       "1                    0     0   \n",
       "2                 3226     0   \n",
       "\n",
       "                                             geocode        suburb  \\\n",
       "0  Avenida Doutor Mário Vilas Boas Rodrigues, San...           NaN   \n",
       "1  Rua Fulgêncio Vertello, Cidade Dutra, São Paul...  Cidade Dutra   \n",
       "2  Mirandópolis, Região Imediata de Andradina, Re...           NaN   \n",
       "\n",
       "  city_district  address_class   postcode  area           type  \n",
       "0   Santo Amaro            0.0  04757-000  80.0     Aluguel     \n",
       "1           NaN            0.0  04823-280  40.0     Aluguel     \n",
       "2           NaN            0.0  16800-000  38.0     Aluguel     "
      ]
     },
     "execution_count": 708,
     "metadata": {},
     "output_type": "execute_result"
    }
   ],
   "source": [
    "df = pd.read_excel('data/dados.xlsx')\n",
    "df.head(3)"
   ]
  },
  {
   "cell_type": "code",
   "execution_count": 709,
   "id": "1a7d4a1f",
   "metadata": {},
   "outputs": [
    {
     "ename": "KeyError",
     "evalue": "''",
     "output_type": "error",
     "traceback": [
      "\u001b[1;31m---------------------------------------------------------------------------\u001b[0m",
      "\u001b[1;31mKeyError\u001b[0m                                  Traceback (most recent call last)",
      "\u001b[1;32m<ipython-input-709-75416ea98ac5>\u001b[0m in \u001b[0;36m<module>\u001b[1;34m\u001b[0m\n\u001b[1;32m----> 1\u001b[1;33m \u001b[0mdf\u001b[0m\u001b[1;33m.\u001b[0m\u001b[0mgroupby\u001b[0m\u001b[1;33m(\u001b[0m\u001b[1;33m[\u001b[0m\u001b[1;34m''\u001b[0m\u001b[1;33m]\u001b[0m\u001b[1;33m)\u001b[0m\u001b[1;33m\u001b[0m\u001b[1;33m\u001b[0m\u001b[0m\n\u001b[0m",
      "\u001b[1;32mc:\\python\\lib\\site-packages\\pandas\\core\\frame.py\u001b[0m in \u001b[0;36mgroupby\u001b[1;34m(self, by, axis, level, as_index, sort, group_keys, squeeze, observed, dropna)\u001b[0m\n\u001b[0;32m   7710\u001b[0m         \u001b[1;31m# error: Argument \"squeeze\" to \"DataFrameGroupBy\" has incompatible type\u001b[0m\u001b[1;33m\u001b[0m\u001b[1;33m\u001b[0m\u001b[1;33m\u001b[0m\u001b[0m\n\u001b[0;32m   7711\u001b[0m         \u001b[1;31m# \"Union[bool, NoDefault]\"; expected \"bool\"\u001b[0m\u001b[1;33m\u001b[0m\u001b[1;33m\u001b[0m\u001b[1;33m\u001b[0m\u001b[0m\n\u001b[1;32m-> 7712\u001b[1;33m         return DataFrameGroupBy(\n\u001b[0m\u001b[0;32m   7713\u001b[0m             \u001b[0mobj\u001b[0m\u001b[1;33m=\u001b[0m\u001b[0mself\u001b[0m\u001b[1;33m,\u001b[0m\u001b[1;33m\u001b[0m\u001b[1;33m\u001b[0m\u001b[0m\n\u001b[0;32m   7714\u001b[0m             \u001b[0mkeys\u001b[0m\u001b[1;33m=\u001b[0m\u001b[0mby\u001b[0m\u001b[1;33m,\u001b[0m\u001b[1;33m\u001b[0m\u001b[1;33m\u001b[0m\u001b[0m\n",
      "\u001b[1;32mc:\\python\\lib\\site-packages\\pandas\\core\\groupby\\groupby.py\u001b[0m in \u001b[0;36m__init__\u001b[1;34m(self, obj, keys, axis, level, grouper, exclusions, selection, as_index, sort, group_keys, squeeze, observed, mutated, dropna)\u001b[0m\n\u001b[0;32m    880\u001b[0m             \u001b[1;32mfrom\u001b[0m \u001b[0mpandas\u001b[0m\u001b[1;33m.\u001b[0m\u001b[0mcore\u001b[0m\u001b[1;33m.\u001b[0m\u001b[0mgroupby\u001b[0m\u001b[1;33m.\u001b[0m\u001b[0mgrouper\u001b[0m \u001b[1;32mimport\u001b[0m \u001b[0mget_grouper\u001b[0m\u001b[1;33m\u001b[0m\u001b[1;33m\u001b[0m\u001b[0m\n\u001b[0;32m    881\u001b[0m \u001b[1;33m\u001b[0m\u001b[0m\n\u001b[1;32m--> 882\u001b[1;33m             grouper, exclusions, obj = get_grouper(\n\u001b[0m\u001b[0;32m    883\u001b[0m                 \u001b[0mobj\u001b[0m\u001b[1;33m,\u001b[0m\u001b[1;33m\u001b[0m\u001b[1;33m\u001b[0m\u001b[0m\n\u001b[0;32m    884\u001b[0m                 \u001b[0mkeys\u001b[0m\u001b[1;33m,\u001b[0m\u001b[1;33m\u001b[0m\u001b[1;33m\u001b[0m\u001b[0m\n",
      "\u001b[1;32mc:\\python\\lib\\site-packages\\pandas\\core\\groupby\\grouper.py\u001b[0m in \u001b[0;36mget_grouper\u001b[1;34m(obj, key, axis, level, sort, observed, mutated, validate, dropna)\u001b[0m\n\u001b[0;32m    880\u001b[0m                 \u001b[0min_axis\u001b[0m\u001b[1;33m,\u001b[0m \u001b[0mlevel\u001b[0m\u001b[1;33m,\u001b[0m \u001b[0mgpr\u001b[0m \u001b[1;33m=\u001b[0m \u001b[1;32mFalse\u001b[0m\u001b[1;33m,\u001b[0m \u001b[0mgpr\u001b[0m\u001b[1;33m,\u001b[0m \u001b[1;32mNone\u001b[0m\u001b[1;33m\u001b[0m\u001b[1;33m\u001b[0m\u001b[0m\n\u001b[0;32m    881\u001b[0m             \u001b[1;32melse\u001b[0m\u001b[1;33m:\u001b[0m\u001b[1;33m\u001b[0m\u001b[1;33m\u001b[0m\u001b[0m\n\u001b[1;32m--> 882\u001b[1;33m                 \u001b[1;32mraise\u001b[0m \u001b[0mKeyError\u001b[0m\u001b[1;33m(\u001b[0m\u001b[0mgpr\u001b[0m\u001b[1;33m)\u001b[0m\u001b[1;33m\u001b[0m\u001b[1;33m\u001b[0m\u001b[0m\n\u001b[0m\u001b[0;32m    883\u001b[0m         \u001b[1;32melif\u001b[0m \u001b[0misinstance\u001b[0m\u001b[1;33m(\u001b[0m\u001b[0mgpr\u001b[0m\u001b[1;33m,\u001b[0m \u001b[0mGrouper\u001b[0m\u001b[1;33m)\u001b[0m \u001b[1;32mand\u001b[0m \u001b[0mgpr\u001b[0m\u001b[1;33m.\u001b[0m\u001b[0mkey\u001b[0m \u001b[1;32mis\u001b[0m \u001b[1;32mnot\u001b[0m \u001b[1;32mNone\u001b[0m\u001b[1;33m:\u001b[0m\u001b[1;33m\u001b[0m\u001b[1;33m\u001b[0m\u001b[0m\n\u001b[0;32m    884\u001b[0m             \u001b[1;31m# Add key to exclusions\u001b[0m\u001b[1;33m\u001b[0m\u001b[1;33m\u001b[0m\u001b[1;33m\u001b[0m\u001b[0m\n",
      "\u001b[1;31mKeyError\u001b[0m: ''"
     ]
    }
   ],
   "source": [
    "df.groupby([''])"
   ]
  },
  {
   "cell_type": "code",
   "execution_count": 710,
   "id": "7e48c1b2",
   "metadata": {},
   "outputs": [],
   "source": [
    "# def get_area_type(row):\n",
    "#     _v = df2[df2.url == row.url]\n",
    "#     return _v.loc[_v.index[0], ['area', 'type']]"
   ]
  },
  {
   "cell_type": "code",
   "execution_count": 711,
   "id": "e5be2c73",
   "metadata": {},
   "outputs": [],
   "source": [
    "df['ID'] = df.url.map(lambda x : x.rsplit('-')[-1].replace('/', ''))"
   ]
  },
  {
   "cell_type": "code",
   "execution_count": 712,
   "id": "96bfd54c",
   "metadata": {},
   "outputs": [],
   "source": [
    "#removendo colunas desnecessárias\n",
    "df.drop(columns=['address', 'amenities', 'title', 'address_class', 'url', 'geocode'], inplace=True)"
   ]
  },
  {
   "cell_type": "markdown",
   "id": "6a5ff5c4",
   "metadata": {},
   "source": [
    "Quais são os dados nulos?"
   ]
  },
  {
   "cell_type": "code",
   "execution_count": 713,
   "id": "22742387",
   "metadata": {},
   "outputs": [
    {
     "data": {
      "text/plain": [
       "bathrooms                 0\n",
       "Condomínio                0\n",
       "Preço c/ condomínio       0\n",
       "IPTU                      0\n",
       "type                      0\n",
       "ID                        0\n",
       "postcode                188\n",
       "rent                    260\n",
       "area                    260\n",
       "bedrooms                324\n",
       "suburb                  407\n",
       "parking                 607\n",
       "city_district          1031\n",
       "dtype: int64"
      ]
     },
     "execution_count": 713,
     "metadata": {},
     "output_type": "execute_result"
    }
   ],
   "source": [
    "df.isna().sum().sort_values()"
   ]
  },
  {
   "cell_type": "code",
   "execution_count": 714,
   "id": "934122f5",
   "metadata": {},
   "outputs": [],
   "source": [
    "def trata_bairro(row):\n",
    "    '''\n",
    "    Função para retornar o campo bairro.\n",
    "    '''\n",
    "    if pd.isna(row['suburb']) and pd.isna(row['city_district']):\n",
    "        return np.nan\n",
    "    if not pd.isna(row['suburb']):\n",
    "        return row['suburb']\n",
    "    elif not pd.isna(row['city_district']):\n",
    "        return row['city_district']\n",
    "    return 'Analisar'\n",
    "#     elif row['suburb'] == row['city_district']:\n",
    "#         return row['city_district']\n",
    "#     else: \n",
    "#         return 'Diferente'"
   ]
  },
  {
   "cell_type": "code",
   "execution_count": 715,
   "id": "9300ec85",
   "metadata": {},
   "outputs": [],
   "source": [
    "df['bairro'] = df.apply(trata_bairro, axis=1)"
   ]
  },
  {
   "cell_type": "markdown",
   "id": "e2b3d904",
   "metadata": {},
   "source": [
    "Quais os registros sem bairro?"
   ]
  },
  {
   "cell_type": "code",
   "execution_count": 716,
   "id": "77bb314a",
   "metadata": {},
   "outputs": [
    {
     "data": {
      "text/html": [
       "<div>\n",
       "<style scoped>\n",
       "    .dataframe tbody tr th:only-of-type {\n",
       "        vertical-align: middle;\n",
       "    }\n",
       "\n",
       "    .dataframe tbody tr th {\n",
       "        vertical-align: top;\n",
       "    }\n",
       "\n",
       "    .dataframe thead th {\n",
       "        text-align: right;\n",
       "    }\n",
       "</style>\n",
       "<table border=\"1\" class=\"dataframe\">\n",
       "  <thead>\n",
       "    <tr style=\"text-align: right;\">\n",
       "      <th></th>\n",
       "      <th>bedrooms</th>\n",
       "      <th>bathrooms</th>\n",
       "      <th>parking</th>\n",
       "      <th>rent</th>\n",
       "      <th>Condomínio</th>\n",
       "      <th>Preço c/ condomínio</th>\n",
       "      <th>IPTU</th>\n",
       "      <th>suburb</th>\n",
       "      <th>city_district</th>\n",
       "      <th>postcode</th>\n",
       "      <th>area</th>\n",
       "      <th>type</th>\n",
       "      <th>ID</th>\n",
       "      <th>bairro</th>\n",
       "    </tr>\n",
       "  </thead>\n",
       "  <tbody>\n",
       "  </tbody>\n",
       "</table>\n",
       "</div>"
      ],
      "text/plain": [
       "Empty DataFrame\n",
       "Columns: [bedrooms, bathrooms, parking, rent, Condomínio, Preço c/ condomínio, IPTU, suburb, city_district, postcode, area, type, ID, bairro]\n",
       "Index: []"
      ]
     },
     "execution_count": 716,
     "metadata": {},
     "output_type": "execute_result"
    }
   ],
   "source": [
    "df[df.bairro == 'Analisar']"
   ]
  },
  {
   "cell_type": "code",
   "execution_count": 717,
   "id": "e382555b",
   "metadata": {},
   "outputs": [
    {
     "data": {
      "text/plain": [
       "323"
      ]
     },
     "execution_count": 717,
     "metadata": {},
     "output_type": "execute_result"
    }
   ],
   "source": [
    "df.bairro.isna().sum()"
   ]
  },
  {
   "cell_type": "markdown",
   "id": "a57c2222",
   "metadata": {},
   "source": [
    "Vamos remover os registros que não tenham valores na coluna bairro"
   ]
  },
  {
   "cell_type": "code",
   "execution_count": 718,
   "id": "7d456174",
   "metadata": {},
   "outputs": [],
   "source": [
    "df.dropna(subset=['bairro'], inplace=True)"
   ]
  },
  {
   "cell_type": "markdown",
   "id": "2cf4f1c4",
   "metadata": {},
   "source": [
    "Não precisamos mais das colunas `suburb` e `city_district` e `postcode` (talvez retornemos com o postcode)"
   ]
  },
  {
   "cell_type": "code",
   "execution_count": 719,
   "id": "a30040fc",
   "metadata": {},
   "outputs": [],
   "source": [
    "df.drop(columns=['suburb', 'city_district', 'postcode'], inplace=True)"
   ]
  },
  {
   "cell_type": "markdown",
   "id": "301401bf",
   "metadata": {},
   "source": [
    "O Valor do `aluguel` + `Condomínio` é examtanet o valor do proço total? Sim!!"
   ]
  },
  {
   "cell_type": "code",
   "execution_count": 720,
   "id": "23a8f18f",
   "metadata": {},
   "outputs": [],
   "source": [
    "df=df.drop(columns=['Preço c/ condomínio','IPTU','Condomínio']).rename({\n",
    "    'bedrooms':'Quartos',\n",
    "    'bathrooms':'Banheiros',\n",
    "    'rent':'Preco',\n",
    "    'bairro':'Bairro',\n",
    "    'parking': 'Estacionamento'\n",
    "}, axis=1) #[~((df['rent'].astype(int) + df['Condomínio'].astype(int)) == df['Preço c/ condomínio'].astype(int))]"
   ]
  },
  {
   "cell_type": "code",
   "execution_count": 721,
   "id": "6b2f72e0",
   "metadata": {},
   "outputs": [],
   "source": [
    "df.Quartos = df.Quartos.fillna(0).astype(int)"
   ]
  },
  {
   "cell_type": "code",
   "execution_count": 722,
   "id": "1e1f531e",
   "metadata": {},
   "outputs": [],
   "source": [
    "df.Estacionamento = df.Estacionamento.fillna(0)"
   ]
  },
  {
   "cell_type": "markdown",
   "id": "65cd78c4",
   "metadata": {},
   "source": [
    "Valores nulos?"
   ]
  },
  {
   "cell_type": "code",
   "execution_count": 723,
   "id": "b2a836ac",
   "metadata": {},
   "outputs": [
    {
     "data": {
      "text/plain": [
       "Quartos           0\n",
       "Banheiros         0\n",
       "Estacionamento    0\n",
       "Preco             0\n",
       "area              0\n",
       "type              0\n",
       "ID                0\n",
       "Bairro            0\n",
       "dtype: int64"
      ]
     },
     "execution_count": 723,
     "metadata": {},
     "output_type": "execute_result"
    }
   ],
   "source": [
    "df.isna().sum()"
   ]
  },
  {
   "cell_type": "code",
   "execution_count": 724,
   "id": "49e6f639",
   "metadata": {},
   "outputs": [],
   "source": [
    "df.reset_index(drop=True, inplace=True)"
   ]
  },
  {
   "cell_type": "code",
   "execution_count": 725,
   "id": "6ec8b683",
   "metadata": {},
   "outputs": [],
   "source": [
    "df.type = df.type.str.strip()"
   ]
  },
  {
   "cell_type": "code",
   "execution_count": 726,
   "id": "6647d956",
   "metadata": {},
   "outputs": [
    {
     "data": {
      "text/plain": [
       "33409.75475923852"
      ]
     },
     "execution_count": 726,
     "metadata": {},
     "output_type": "execute_result"
    }
   ],
   "source": [
    "df[df.type == 'Aluguel'].Preco.mean()"
   ]
  },
  {
   "cell_type": "code",
   "execution_count": 727,
   "id": "8e72cbfc",
   "metadata": {},
   "outputs": [
    {
     "data": {
      "text/plain": [
       "2500.0"
      ]
     },
     "execution_count": 727,
     "metadata": {},
     "output_type": "execute_result"
    }
   ],
   "source": [
    "df[df.type == 'Aluguel'].Preco.median()"
   ]
  },
  {
   "cell_type": "code",
   "execution_count": 728,
   "id": "a34fc77e",
   "metadata": {},
   "outputs": [
    {
     "data": {
      "text/html": [
       "<div>\n",
       "<style scoped>\n",
       "    .dataframe tbody tr th:only-of-type {\n",
       "        vertical-align: middle;\n",
       "    }\n",
       "\n",
       "    .dataframe tbody tr th {\n",
       "        vertical-align: top;\n",
       "    }\n",
       "\n",
       "    .dataframe thead th {\n",
       "        text-align: right;\n",
       "    }\n",
       "</style>\n",
       "<table border=\"1\" class=\"dataframe\">\n",
       "  <thead>\n",
       "    <tr style=\"text-align: right;\">\n",
       "      <th></th>\n",
       "      <th>type</th>\n",
       "      <th>ID</th>\n",
       "    </tr>\n",
       "  </thead>\n",
       "  <tbody>\n",
       "    <tr>\n",
       "      <th>0</th>\n",
       "      <td>Aluguel</td>\n",
       "      <td>893</td>\n",
       "    </tr>\n",
       "    <tr>\n",
       "      <th>1</th>\n",
       "      <td>Compra</td>\n",
       "      <td>214</td>\n",
       "    </tr>\n",
       "    <tr>\n",
       "      <th>2</th>\n",
       "      <td>Não informado</td>\n",
       "      <td>396</td>\n",
       "    </tr>\n",
       "  </tbody>\n",
       "</table>\n",
       "</div>"
      ],
      "text/plain": [
       "            type   ID\n",
       "0        Aluguel  893\n",
       "1         Compra  214\n",
       "2  Não informado  396"
      ]
     },
     "execution_count": 728,
     "metadata": {},
     "output_type": "execute_result"
    }
   ],
   "source": [
    "df.groupby(['type'], as_index=False).ID.count()"
   ]
  },
  {
   "cell_type": "code",
   "execution_count": 729,
   "id": "3e12ee06",
   "metadata": {},
   "outputs": [],
   "source": [
    "df = df[df.type == 'Aluguel']"
   ]
  },
  {
   "cell_type": "markdown",
   "id": "13f0999b",
   "metadata": {},
   "source": [
    "Removendo os outliers"
   ]
  },
  {
   "cell_type": "code",
   "execution_count": 730,
   "id": "53ffee70",
   "metadata": {},
   "outputs": [],
   "source": [
    "df= df[df.Preco < 50000].reset_index(drop=True)#.sort_values(by=['Preco'], ascending=False)\n",
    "df = df[df.Quartos < 6]"
   ]
  },
  {
   "cell_type": "code",
   "execution_count": 736,
   "id": "aaa536a8",
   "metadata": {},
   "outputs": [
    {
     "data": {
      "text/html": [
       "<div>\n",
       "<style scoped>\n",
       "    .dataframe tbody tr th:only-of-type {\n",
       "        vertical-align: middle;\n",
       "    }\n",
       "\n",
       "    .dataframe tbody tr th {\n",
       "        vertical-align: top;\n",
       "    }\n",
       "\n",
       "    .dataframe thead th {\n",
       "        text-align: right;\n",
       "    }\n",
       "</style>\n",
       "<table border=\"1\" class=\"dataframe\">\n",
       "  <thead>\n",
       "    <tr style=\"text-align: right;\">\n",
       "      <th></th>\n",
       "      <th>Bairro</th>\n",
       "      <th>Preco</th>\n",
       "    </tr>\n",
       "  </thead>\n",
       "  <tbody>\n",
       "    <tr>\n",
       "      <th>42</th>\n",
       "      <td>Ermelino Matarazzo</td>\n",
       "      <td>35000.0</td>\n",
       "    </tr>\n",
       "    <tr>\n",
       "      <th>56</th>\n",
       "      <td>Jardim Aurélia</td>\n",
       "      <td>20000.0</td>\n",
       "    </tr>\n",
       "    <tr>\n",
       "      <th>53</th>\n",
       "      <td>Jardim Aclimação</td>\n",
       "      <td>20000.0</td>\n",
       "    </tr>\n",
       "    <tr>\n",
       "      <th>82</th>\n",
       "      <td>Jardins Rio Preto</td>\n",
       "      <td>15000.0</td>\n",
       "    </tr>\n",
       "    <tr>\n",
       "      <th>95</th>\n",
       "      <td>Pacaembu</td>\n",
       "      <td>13000.0</td>\n",
       "    </tr>\n",
       "    <tr>\n",
       "      <th>...</th>\n",
       "      <td>...</td>\n",
       "      <td>...</td>\n",
       "    </tr>\n",
       "    <tr>\n",
       "      <th>73</th>\n",
       "      <td>Jardim Santo André</td>\n",
       "      <td>900.0</td>\n",
       "    </tr>\n",
       "    <tr>\n",
       "      <th>69</th>\n",
       "      <td>Jardim Previdência</td>\n",
       "      <td>875.0</td>\n",
       "    </tr>\n",
       "    <tr>\n",
       "      <th>126</th>\n",
       "      <td>São João Climaco</td>\n",
       "      <td>850.0</td>\n",
       "    </tr>\n",
       "    <tr>\n",
       "      <th>84</th>\n",
       "      <td>Jaçanã</td>\n",
       "      <td>800.0</td>\n",
       "    </tr>\n",
       "    <tr>\n",
       "      <th>129</th>\n",
       "      <td>Sé</td>\n",
       "      <td>785.0</td>\n",
       "    </tr>\n",
       "  </tbody>\n",
       "</table>\n",
       "<p>185 rows × 2 columns</p>\n",
       "</div>"
      ],
      "text/plain": [
       "                 Bairro    Preco\n",
       "42   Ermelino Matarazzo  35000.0\n",
       "56       Jardim Aurélia  20000.0\n",
       "53     Jardim Aclimação  20000.0\n",
       "82    Jardins Rio Preto  15000.0\n",
       "95             Pacaembu  13000.0\n",
       "..                  ...      ...\n",
       "73   Jardim Santo André    900.0\n",
       "69   Jardim Previdência    875.0\n",
       "126    São João Climaco    850.0\n",
       "84               Jaçanã    800.0\n",
       "129                  Sé    785.0\n",
       "\n",
       "[185 rows x 2 columns]"
      ]
     },
     "execution_count": 736,
     "metadata": {},
     "output_type": "execute_result"
    }
   ],
   "source": [
    "df.groupby(['Bairro'], as_index=False).Preco.median().sort_values(by='Preco', ascending=False)"
   ]
  },
  {
   "cell_type": "markdown",
   "id": "0d06bce2",
   "metadata": {},
   "source": [
    "Vamos pegar uma amostra de valores aleatórios no dataframe."
   ]
  },
  {
   "cell_type": "code",
   "execution_count": 638,
   "id": "a7b959ba",
   "metadata": {},
   "outputs": [],
   "source": [
    "test_sample = df.sample(10)\n",
    "df = df.drop(test_sample.index).reset_index(drop=True)"
   ]
  },
  {
   "cell_type": "code",
   "execution_count": 639,
   "id": "d88bb20e",
   "metadata": {},
   "outputs": [
    {
     "data": {
      "image/png": "[encoded data removed]",
      "text/plain": [
       "<Figure size 432x288 with 1 Axes>"
      ]
     },
     "metadata": {
      "needs_background": "light"
     },
     "output_type": "display_data"
    }
   ],
   "source": [
    "fig, ax= plt.subplots()\n",
    "ax.scatter(x=df['Quartos'], y=np.log(df['Preco']))\n",
    "plt.ylabel('Preço')\n",
    "plt.xlabel('Quartos')\n",
    "plt.title(\"Preço X Quantidade de Quartos\")\n",
    "plt.show()"
   ]
  },
  {
   "cell_type": "code",
   "execution_count": 640,
   "id": "b79bc6da",
   "metadata": {},
   "outputs": [
    {
     "name": "stderr",
     "output_type": "stream",
     "text": [
      "c:\\python\\lib\\site-packages\\seaborn\\distributions.py:2619: FutureWarning: `distplot` is a deprecated function and will be removed in a future version. Please adapt your code to use either `displot` (a figure-level function with similar flexibility) or `histplot` (an axes-level function for histograms).\n",
      "  warnings.warn(msg, FutureWarning)\n"
     ]
    },
    {
     "data": {
      "image/png": "[encoded data removed]",
      "text/plain": [
       "<Figure size 432x288 with 1 Axes>"
      ]
     },
     "metadata": {
      "needs_background": "light"
     },
     "output_type": "display_data"
    }
   ],
   "source": [
    "sns.distplot(df.Preco, fit=norm)\n",
    "plt.xlabel('Preço Imóvel')\n",
    "plt.ylabel('Quantidade de Imóveis')\n",
    "plt.title('Distribuição do preço')\n",
    "plt.show()"
   ]
  },
  {
   "cell_type": "markdown",
   "id": "ae8d9dbc",
   "metadata": {},
   "source": [
    "Vamos ajustar o preço para uma distribuição `normal`"
   ]
  },
  {
   "cell_type": "code",
   "execution_count": 641,
   "id": "f1d700b8",
   "metadata": {},
   "outputs": [
    {
     "name": "stderr",
     "output_type": "stream",
     "text": [
      "c:\\python\\lib\\site-packages\\seaborn\\distributions.py:2619: FutureWarning: `distplot` is a deprecated function and will be removed in a future version. Please adapt your code to use either `displot` (a figure-level function with similar flexibility) or `histplot` (an axes-level function for histograms).\n",
      "  warnings.warn(msg, FutureWarning)\n"
     ]
    },
    {
     "data": {
      "image/png": "[encoded data removed]",
      "text/plain": [
       "<Figure size 432x288 with 1 Axes>"
      ]
     },
     "metadata": {
      "needs_background": "light"
     },
     "output_type": "display_data"
    }
   ],
   "source": [
    "sns.distplot(np.log(df.Preco), fit=norm)\n",
    "plt.xlabel('Preço Imóvel')\n",
    "plt.ylabel('Quantidade de Imóveis')\n",
    "plt.title('Normalizando o preço com o log')\n",
    "plt.show()"
   ]
  },
  {
   "cell_type": "code",
   "execution_count": 642,
   "id": "57d12a0e",
   "metadata": {},
   "outputs": [
    {
     "data": {
      "image/png": "[encoded data removed]",
      "text/plain": [
       "<Figure size 432x288 with 1 Axes>"
      ]
     },
     "metadata": {
      "needs_background": "light"
     },
     "output_type": "display_data"
    }
   ],
   "source": [
    "probplot(np.log(df.Preco), plot=plt)\n",
    "plt.show()"
   ]
  },
  {
   "cell_type": "code",
   "execution_count": 643,
   "id": "a141c47c",
   "metadata": {},
   "outputs": [],
   "source": [
    "df.Preco = np.log(df.Preco)"
   ]
  },
  {
   "cell_type": "code",
   "execution_count": 644,
   "id": "dcdb7b91",
   "metadata": {},
   "outputs": [],
   "source": [
    "df.Bairro = df.Bairro.astype(\"category\")"
   ]
  },
  {
   "cell_type": "code",
   "execution_count": 645,
   "id": "dd0b60bd",
   "metadata": {},
   "outputs": [],
   "source": [
    "X = df.drop(columns=['Preco', 'type', 'ID'])\n",
    "y = df['Preco']"
   ]
  },
  {
   "cell_type": "code",
   "execution_count": 673,
   "id": "caba2ba6",
   "metadata": {},
   "outputs": [
    {
     "name": "stdout",
     "output_type": "stream",
     "text": [
      "Mean Absolute Error com OrdinalEnconder:\n",
      "0.3920326466450002\n"
     ]
    }
   ],
   "source": [
    "# Vamos criar nossa base de treino e teste\n",
    "X_train, X_test, y_train, y_test = train_test_split(X, y, test_size=0.4, random_state=42)\n",
    "# Vamos criar uma cópia para evitar alterações\n",
    "label_X_train = X_train.copy()\n",
    "label_X_test = X_test.copy()\n",
    "\n",
    "# Vamos aplicar o OrdinarEnconder para a coluna categoria, que no caso é apenas o bairro\n",
    "ordinal_encoder = OrdinalEncoder(handle_unknown='use_encoded_value', unknown_value=-1)\n",
    "\n",
    "label_X_train[['Bairro']] = ordinal_encoder.fit_transform(X_train[['Bairro']].values)\n",
    "label_X_test[['Bairro']] = ordinal_encoder.transform(X_test[['Bairro']].values)\n",
    "\n",
    "print(\"Mean Absolute Error com OrdinalEnconder:\") \n",
    "print(score_(label_X_train, label_X_test, y_train, y_test))"
   ]
  },
  {
   "cell_type": "code",
   "execution_count": 647,
   "id": "b9418118",
   "metadata": {
    "scrolled": false
   },
   "outputs": [
    {
     "data": {
      "text/plain": [
       "array([ -8.97696085, -11.43598   , -14.94605206, -15.74751737,\n",
       "       -11.50633776])"
      ]
     },
     "execution_count": 647,
     "metadata": {},
     "output_type": "execute_result"
    }
   ],
   "source": [
    "scores = cross_val_score(LinearRegression(fit_intercept=False, n_jobs=1, positive=True), label_X_train, y_train, cv=5)\n",
    "scores"
   ]
  },
  {
   "cell_type": "code",
   "execution_count": 648,
   "id": "7d251f62",
   "metadata": {},
   "outputs": [
    {
     "data": {
      "text/plain": [
       "array([0.39351043, 0.35506377, 0.39874117, 0.36980942, 0.36671045])"
      ]
     },
     "execution_count": 648,
     "metadata": {},
     "output_type": "execute_result"
    }
   ],
   "source": [
    "\n",
    "n_estimators = 5\n",
    "pipe = Pipeline(steps=[\n",
    "    #('preprocessor', SimpleImputer()),\n",
    "    (\"normalizacao\", MinMaxScaler()),\n",
    "    ('model', LinearRegression(n_jobs=5))\n",
    "])\n",
    "scores = -1 * cross_val_score(pipe, label_X_train, y_train,\n",
    "                          cv=5,\n",
    "                          scoring='neg_mean_absolute_error')\n",
    "scores"
   ]
  },
  {
   "cell_type": "code",
   "execution_count": 649,
   "id": "e42a877e",
   "metadata": {},
   "outputs": [],
   "source": [
    "# clf = GridSearchCV(LinearRegression(), {'positive': [True, False],'fit_intercept':[True, False], 'n_jobs': [1,3,5,7,10,15,20,30,40,60,100]})\n",
    "# clf.fit(label_X_train, y_train)\n",
    "# clf.cv_results_.keys()"
   ]
  },
  {
   "cell_type": "code",
   "execution_count": 650,
   "id": "09afd076",
   "metadata": {},
   "outputs": [],
   "source": [
    "# clf.best_estimator_"
   ]
  },
  {
   "cell_type": "code",
   "execution_count": 651,
   "id": "96caafb0",
   "metadata": {},
   "outputs": [],
   "source": [
    "# clf = GridSearchCV(RandomForestRegressor(), {'n_estimators': [0, 5, 10, 50, 100], \n",
    "# #                                        'criterion': [\"squared_error\", \"absolute_error\", \"poisson\"],\n",
    "#                                        'max_depth': [0, 4, 7, 10],\n",
    "# #                                        'min_samples_split': [0, 1, 2],\n",
    "# #                                        'min_samples_leaf': [0, 2, 4],\n",
    "# #                                        'bootstrap': [True, False],\n",
    "#                                        'n_jobs': [0, 5, 10],\n",
    "#                                       'max_samples':[0.0, 0.4, 0.6]})\n",
    "# clf.fit(label_X_train, y_train)"
   ]
  },
  {
   "cell_type": "code",
   "execution_count": 653,
   "id": "ef316343",
   "metadata": {},
   "outputs": [],
   "source": [
    "# clf.best_estimator_"
   ]
  },
  {
   "cell_type": "markdown",
   "id": "dc800df5",
   "metadata": {},
   "source": [
    "### Quais os melhores hiperparametros?\n",
    "\n",
    "`RandomForestRegressor(max_depth=10, max_samples=0.4, n_jobs=5)`"
   ]
  },
  {
   "cell_type": "code",
   "execution_count": 654,
   "id": "9f2a98c5",
   "metadata": {},
   "outputs": [
    {
     "data": {
      "text/plain": [
       "array([0.32900896, 0.29968631, 0.33132199, 0.33080728, 0.32392836])"
      ]
     },
     "execution_count": 654,
     "metadata": {},
     "output_type": "execute_result"
    }
   ],
   "source": [
    "n_estimators = 5\n",
    "pipe = Pipeline(steps=[\n",
    "    ('preprocessor', SimpleImputer()),\n",
    "    (\"normalizacao\", StandardScaler()),\n",
    "    ('model', RandomForestRegressor(max_depth=10, max_samples=0.4, n_jobs=5))\n",
    "])\n",
    "scores = -1 * cross_val_score(pipe, label_X_train, y_train,\n",
    "                          cv=5,\n",
    "                          scoring='neg_mean_absolute_error')\n",
    "scores"
   ]
  },
  {
   "cell_type": "code",
   "execution_count": 655,
   "id": "a62f44dc",
   "metadata": {},
   "outputs": [
    {
     "data": {
      "text/plain": [
       "Pipeline(steps=[('preprocessor', SimpleImputer()),\n",
       "                ('normalizacao', StandardScaler()),\n",
       "                ('model',\n",
       "                 RandomForestRegressor(max_depth=10, max_samples=0.4,\n",
       "                                       n_jobs=5))])"
      ]
     },
     "execution_count": 655,
     "metadata": {},
     "output_type": "execute_result"
    }
   ],
   "source": [
    "pipe.fit(label_X_test.values, y_test)"
   ]
  },
  {
   "cell_type": "code",
   "execution_count": 656,
   "id": "79281988",
   "metadata": {},
   "outputs": [
    {
     "data": {
      "text/plain": [
       "0.8221941997717528"
      ]
     },
     "execution_count": 656,
     "metadata": {},
     "output_type": "execute_result"
    }
   ],
   "source": [
    "pipe.score(label_X_test.values, y_test)"
   ]
  },
  {
   "cell_type": "markdown",
   "id": "ae944905",
   "metadata": {},
   "source": [
    "### PCA"
   ]
  },
  {
   "cell_type": "code",
   "execution_count": 657,
   "id": "a06c8412",
   "metadata": {},
   "outputs": [
    {
     "data": {
      "text/plain": [
       "array([0.41, 0.64, 0.84, 0.93, 1.  ])"
      ]
     },
     "execution_count": 657,
     "metadata": {},
     "output_type": "execute_result"
    }
   ],
   "source": [
    "sc = StandardScaler()\n",
    "sc.fit(label_X_test)\n",
    "df_standard = sc.transform(label_X_test)\n",
    "pca = PCA(n_components=5)\n",
    "pca.fit(df_standard)\n",
    "np.round(pca.explained_variance_ratio_.cumsum(), decimals=2)"
   ]
  },
  {
   "cell_type": "code",
   "execution_count": 658,
   "id": "d428b639",
   "metadata": {},
   "outputs": [
    {
     "data": {
      "text/plain": [
       "array([0.41, 0.23, 0.2 , 0.09, 0.07])"
      ]
     },
     "execution_count": 658,
     "metadata": {},
     "output_type": "execute_result"
    }
   ],
   "source": [
    "np.round(pca.explained_variance_ratio_, decimals=2)"
   ]
  },
  {
   "cell_type": "code",
   "execution_count": 659,
   "id": "c31c2fc0",
   "metadata": {},
   "outputs": [
    {
     "data": {
      "image/png": "[encoded data removed]",
      "text/plain": [
       "<Figure size 432x288 with 1 Axes>"
      ]
     },
     "metadata": {
      "needs_background": "light"
     },
     "output_type": "display_data"
    }
   ],
   "source": [
    "plt.plot(np.cumsum(pca.explained_variance_ratio_), 'ro-', linewidth=2)\n",
    "plt.title('PCA')\n",
    "plt.show()"
   ]
  },
  {
   "cell_type": "markdown",
   "id": "3c01d745",
   "metadata": {},
   "source": [
    "Como temos poucas colunas, vamos manter as 5 colunas inicias"
   ]
  },
  {
   "cell_type": "code",
   "execution_count": 660,
   "id": "c4777621",
   "metadata": {},
   "outputs": [],
   "source": [
    "from joblib import dump, load"
   ]
  },
  {
   "cell_type": "code",
   "execution_count": 678,
   "id": "0b69bc1d",
   "metadata": {},
   "outputs": [
    {
     "data": {
      "text/plain": [
       "['models\\\\ordinal_encoder.joblib']"
      ]
     },
     "execution_count": 678,
     "metadata": {},
     "output_type": "execute_result"
    }
   ],
   "source": [
    "dump(pipe, 'models\\pipe_rfr.joblib')\n",
    "dump(ordinal_encoder, 'models\\ordinal_encoder.joblib')"
   ]
  },
  {
   "cell_type": "code",
   "execution_count": 679,
   "id": "1df3d082",
   "metadata": {},
   "outputs": [],
   "source": [
    "ordinal_encoder = load('models\\ordinal_encoder.joblib')"
   ]
  },
  {
   "cell_type": "code",
   "execution_count": 663,
   "id": "5e4670a4",
   "metadata": {},
   "outputs": [
    {
     "data": {
      "text/html": [
       "<div>\n",
       "<style scoped>\n",
       "    .dataframe tbody tr th:only-of-type {\n",
       "        vertical-align: middle;\n",
       "    }\n",
       "\n",
       "    .dataframe tbody tr th {\n",
       "        vertical-align: top;\n",
       "    }\n",
       "\n",
       "    .dataframe thead th {\n",
       "        text-align: right;\n",
       "    }\n",
       "</style>\n",
       "<table border=\"1\" class=\"dataframe\">\n",
       "  <thead>\n",
       "    <tr style=\"text-align: right;\">\n",
       "      <th></th>\n",
       "      <th>Bairro</th>\n",
       "      <th>ID</th>\n",
       "    </tr>\n",
       "  </thead>\n",
       "  <tbody>\n",
       "    <tr>\n",
       "      <th>67</th>\n",
       "      <td>Jardim Paulista</td>\n",
       "      <td>53</td>\n",
       "    </tr>\n",
       "    <tr>\n",
       "      <th>48</th>\n",
       "      <td>Itaim Bibi</td>\n",
       "      <td>50</td>\n",
       "    </tr>\n",
       "    <tr>\n",
       "      <th>91</th>\n",
       "      <td>Moema</td>\n",
       "      <td>44</td>\n",
       "    </tr>\n",
       "    <tr>\n",
       "      <th>12</th>\n",
       "      <td>Bela Vista</td>\n",
       "      <td>35</td>\n",
       "    </tr>\n",
       "    <tr>\n",
       "      <th>107</th>\n",
       "      <td>Pinheiros</td>\n",
       "      <td>31</td>\n",
       "    </tr>\n",
       "    <tr>\n",
       "      <th>50</th>\n",
       "      <td>Jabaquara</td>\n",
       "      <td>24</td>\n",
       "    </tr>\n",
       "    <tr>\n",
       "      <th>116</th>\n",
       "      <td>Santo Amaro</td>\n",
       "      <td>24</td>\n",
       "    </tr>\n",
       "    <tr>\n",
       "      <th>19</th>\n",
       "      <td>Campo Belo</td>\n",
       "      <td>21</td>\n",
       "    </tr>\n",
       "    <tr>\n",
       "      <th>96</th>\n",
       "      <td>Paraíso</td>\n",
       "      <td>19</td>\n",
       "    </tr>\n",
       "    <tr>\n",
       "      <th>92</th>\n",
       "      <td>Mooca</td>\n",
       "      <td>17</td>\n",
       "    </tr>\n",
       "    <tr>\n",
       "      <th>162</th>\n",
       "      <td>Vila Mariana</td>\n",
       "      <td>16</td>\n",
       "    </tr>\n",
       "    <tr>\n",
       "      <th>141</th>\n",
       "      <td>Vila Clementino</td>\n",
       "      <td>15</td>\n",
       "    </tr>\n",
       "    <tr>\n",
       "      <th>39</th>\n",
       "      <td>Consolação</td>\n",
       "      <td>14</td>\n",
       "    </tr>\n",
       "    <tr>\n",
       "      <th>84</th>\n",
       "      <td>Lapa</td>\n",
       "      <td>14</td>\n",
       "    </tr>\n",
       "    <tr>\n",
       "      <th>113</th>\n",
       "      <td>Santa Cecília</td>\n",
       "      <td>14</td>\n",
       "    </tr>\n",
       "    <tr>\n",
       "      <th>104</th>\n",
       "      <td>Perdizes</td>\n",
       "      <td>13</td>\n",
       "    </tr>\n",
       "    <tr>\n",
       "      <th>133</th>\n",
       "      <td>Vila Andrade</td>\n",
       "      <td>12</td>\n",
       "    </tr>\n",
       "    <tr>\n",
       "      <th>44</th>\n",
       "      <td>Higienópolis</td>\n",
       "      <td>12</td>\n",
       "    </tr>\n",
       "    <tr>\n",
       "      <th>130</th>\n",
       "      <td>Tatuapé</td>\n",
       "      <td>12</td>\n",
       "    </tr>\n",
       "    <tr>\n",
       "      <th>86</th>\n",
       "      <td>Liberdade</td>\n",
       "      <td>11</td>\n",
       "    </tr>\n",
       "  </tbody>\n",
       "</table>\n",
       "</div>"
      ],
      "text/plain": [
       "              Bairro  ID\n",
       "67   Jardim Paulista  53\n",
       "48        Itaim Bibi  50\n",
       "91             Moema  44\n",
       "12        Bela Vista  35\n",
       "107        Pinheiros  31\n",
       "50         Jabaquara  24\n",
       "116      Santo Amaro  24\n",
       "19        Campo Belo  21\n",
       "96           Paraíso  19\n",
       "92             Mooca  17\n",
       "162     Vila Mariana  16\n",
       "141  Vila Clementino  15\n",
       "39        Consolação  14\n",
       "84              Lapa  14\n",
       "113    Santa Cecília  14\n",
       "104         Perdizes  13\n",
       "133     Vila Andrade  12\n",
       "44      Higienópolis  12\n",
       "130          Tatuapé  12\n",
       "86         Liberdade  11"
      ]
     },
     "execution_count": 663,
     "metadata": {},
     "output_type": "execute_result"
    }
   ],
   "source": [
    "df.groupby(['Bairro'], as_index=False).ID.count().sort_values(by='ID', ascending=False).head(20)"
   ]
  },
  {
   "cell_type": "code",
   "execution_count": 664,
   "id": "32c807f0",
   "metadata": {},
   "outputs": [],
   "source": [
    "test_bairro = test_sample['Bairro']"
   ]
  },
  {
   "cell_type": "code",
   "execution_count": 665,
   "id": "1a6055c7",
   "metadata": {},
   "outputs": [],
   "source": [
    "test_sample[['Bairro']] = ordinal_encoder.fit_transform(test_sample[['Bairro']])"
   ]
  },
  {
   "cell_type": "code",
   "execution_count": 666,
   "id": "e2381e94",
   "metadata": {},
   "outputs": [],
   "source": [
    "test_sample_true = test_sample['Preco']"
   ]
  },
  {
   "cell_type": "code",
   "execution_count": 667,
   "id": "e2c22ba1",
   "metadata": {},
   "outputs": [],
   "source": [
    "test_sample.drop(columns=['Preco', 'type', 'ID'],  inplace=True)"
   ]
  },
  {
   "cell_type": "code",
   "execution_count": 668,
   "id": "256229ce",
   "metadata": {},
   "outputs": [
    {
     "data": {
      "text/plain": [
       "array([['Santana'],\n",
       "       ['Vila Santo Estéfano'],\n",
       "       ['Moema'],\n",
       "       ['Campo Belo']], dtype=object)"
      ]
     },
     "execution_count": 668,
     "metadata": {},
     "output_type": "execute_result"
    }
   ],
   "source": [
    "np.array([[\"Santana\"],['Vila Santo Estéfano'],\n",
    "       ['Moema'],\n",
    "       ['Campo Belo']], dtype='O').reshape(-1, 1)"
   ]
  },
  {
   "cell_type": "code",
   "execution_count": 734,
   "id": "38afd3a9",
   "metadata": {},
   "outputs": [
    {
     "data": {
      "text/plain": [
       "array([[88.]])"
      ]
     },
     "execution_count": 734,
     "metadata": {},
     "output_type": "execute_result"
    }
   ],
   "source": [
    "ordinal_encoder.transform([['Pinheiros']])"
   ]
  },
  {
   "cell_type": "code",
   "execution_count": 698,
   "id": "29cc6229",
   "metadata": {},
   "outputs": [
    {
     "data": {
      "text/plain": [
       "88.0"
      ]
     },
     "execution_count": 698,
     "metadata": {},
     "output_type": "execute_result"
    }
   ],
   "source": [
    "a.flatten()[0]"
   ]
  },
  {
   "cell_type": "code",
   "execution_count": 681,
   "id": "b72c2f0d",
   "metadata": {},
   "outputs": [
    {
     "data": {
      "text/plain": [
       "array(['Vila Sônia', 'Pinheiros', 'Itaim Bibi', 'Parada Inglesa',\n",
       "       'Vila Buarque', 'Campo Belo', 'Tatuapé', 'Santo Amaro',\n",
       "       'Vila Sônia', 'Alto da Lapa'], dtype=object)"
      ]
     },
     "execution_count": 681,
     "metadata": {},
     "output_type": "execute_result"
    }
   ],
   "source": [
    "np.array(test_bairro)#.reshape(-1, 1)"
   ]
  },
  {
   "cell_type": "code",
   "execution_count": 682,
   "id": "8d79c256",
   "metadata": {},
   "outputs": [
    {
     "data": {
      "text/plain": [
       "array([[146.],\n",
       "       [ 88.],\n",
       "       [ 42.],\n",
       "       [ 80.],\n",
       "       [115.],\n",
       "       [ 15.],\n",
       "       [109.],\n",
       "       [ 96.],\n",
       "       [146.],\n",
       "       [ -1.]])"
      ]
     },
     "execution_count": 682,
     "metadata": {},
     "output_type": "execute_result"
    }
   ],
   "source": [
    "ordinal_encoder.transform(np.array(test_bairro).reshape(-1, 1))"
   ]
  },
  {
   "cell_type": "code",
   "execution_count": 470,
   "id": "6a2d15be",
   "metadata": {},
   "outputs": [
    {
     "data": {
      "text/html": [
       "<div>\n",
       "<style scoped>\n",
       "    .dataframe tbody tr th:only-of-type {\n",
       "        vertical-align: middle;\n",
       "    }\n",
       "\n",
       "    .dataframe tbody tr th {\n",
       "        vertical-align: top;\n",
       "    }\n",
       "\n",
       "    .dataframe thead th {\n",
       "        text-align: right;\n",
       "    }\n",
       "</style>\n",
       "<table border=\"1\" class=\"dataframe\">\n",
       "  <thead>\n",
       "    <tr style=\"text-align: right;\">\n",
       "      <th></th>\n",
       "      <th>Quartos</th>\n",
       "      <th>Banheiros</th>\n",
       "      <th>Estacionamento</th>\n",
       "      <th>area</th>\n",
       "      <th>Bairro</th>\n",
       "    </tr>\n",
       "  </thead>\n",
       "  <tbody>\n",
       "    <tr>\n",
       "      <th>0</th>\n",
       "      <td>3</td>\n",
       "      <td>2</td>\n",
       "      <td>1.0</td>\n",
       "      <td>75.0</td>\n",
       "      <td>8.0</td>\n",
       "    </tr>\n",
       "    <tr>\n",
       "      <th>1</th>\n",
       "      <td>1</td>\n",
       "      <td>1</td>\n",
       "      <td>1.0</td>\n",
       "      <td>35.0</td>\n",
       "      <td>2.0</td>\n",
       "    </tr>\n",
       "    <tr>\n",
       "      <th>2</th>\n",
       "      <td>4</td>\n",
       "      <td>44</td>\n",
       "      <td>4.0</td>\n",
       "      <td>307.0</td>\n",
       "      <td>0.0</td>\n",
       "    </tr>\n",
       "    <tr>\n",
       "      <th>3</th>\n",
       "      <td>2</td>\n",
       "      <td>1</td>\n",
       "      <td>1.0</td>\n",
       "      <td>58.0</td>\n",
       "      <td>5.0</td>\n",
       "    </tr>\n",
       "    <tr>\n",
       "      <th>4</th>\n",
       "      <td>1</td>\n",
       "      <td>1</td>\n",
       "      <td>0.0</td>\n",
       "      <td>45.0</td>\n",
       "      <td>6.0</td>\n",
       "    </tr>\n",
       "    <tr>\n",
       "      <th>5</th>\n",
       "      <td>3</td>\n",
       "      <td>31</td>\n",
       "      <td>2.0</td>\n",
       "      <td>180.0</td>\n",
       "      <td>4.0</td>\n",
       "    </tr>\n",
       "    <tr>\n",
       "      <th>6</th>\n",
       "      <td>1</td>\n",
       "      <td>1</td>\n",
       "      <td>1.0</td>\n",
       "      <td>35.0</td>\n",
       "      <td>9.0</td>\n",
       "    </tr>\n",
       "    <tr>\n",
       "      <th>7</th>\n",
       "      <td>1</td>\n",
       "      <td>1</td>\n",
       "      <td>0.0</td>\n",
       "      <td>16.0</td>\n",
       "      <td>1.0</td>\n",
       "    </tr>\n",
       "    <tr>\n",
       "      <th>8</th>\n",
       "      <td>1</td>\n",
       "      <td>11</td>\n",
       "      <td>1.0</td>\n",
       "      <td>35.0</td>\n",
       "      <td>7.0</td>\n",
       "    </tr>\n",
       "    <tr>\n",
       "      <th>9</th>\n",
       "      <td>2</td>\n",
       "      <td>1</td>\n",
       "      <td>1.0</td>\n",
       "      <td>65.0</td>\n",
       "      <td>3.0</td>\n",
       "    </tr>\n",
       "  </tbody>\n",
       "</table>\n",
       "</div>"
      ],
      "text/plain": [
       "   Quartos  Banheiros  Estacionamento   area  Bairro\n",
       "0        3          2             1.0   75.0     8.0\n",
       "1        1          1             1.0   35.0     2.0\n",
       "2        4         44             4.0  307.0     0.0\n",
       "3        2          1             1.0   58.0     5.0\n",
       "4        1          1             0.0   45.0     6.0\n",
       "5        3         31             2.0  180.0     4.0\n",
       "6        1          1             1.0   35.0     9.0\n",
       "7        1          1             0.0   16.0     1.0\n",
       "8        1         11             1.0   35.0     7.0\n",
       "9        2          1             1.0   65.0     3.0"
      ]
     },
     "execution_count": 470,
     "metadata": {},
     "output_type": "execute_result"
    }
   ],
   "source": [
    "test_sample"
   ]
  },
  {
   "cell_type": "code",
   "execution_count": 456,
   "id": "f7290c44",
   "metadata": {},
   "outputs": [],
   "source": [
    "test_sample = test_sample.reset_index(drop=True)"
   ]
  },
  {
   "cell_type": "code",
   "execution_count": 457,
   "id": "d54352ed",
   "metadata": {},
   "outputs": [
    {
     "data": {
      "text/plain": [
       "Quartos            3.0\n",
       "Banheiros          2.0\n",
       "Estacionamento     1.0\n",
       "area              75.0\n",
       "Bairro             8.0\n",
       "Name: 0, dtype: float64"
      ]
     },
     "execution_count": 457,
     "metadata": {},
     "output_type": "execute_result"
    }
   ],
   "source": [
    "test_sample.iloc[0].T"
   ]
  },
  {
   "cell_type": "code",
   "execution_count": 458,
   "id": "5fc17acb",
   "metadata": {},
   "outputs": [
    {
     "data": {
      "text/html": [
       "<div>\n",
       "<style scoped>\n",
       "    .dataframe tbody tr th:only-of-type {\n",
       "        vertical-align: middle;\n",
       "    }\n",
       "\n",
       "    .dataframe tbody tr th {\n",
       "        vertical-align: top;\n",
       "    }\n",
       "\n",
       "    .dataframe thead th {\n",
       "        text-align: right;\n",
       "    }\n",
       "</style>\n",
       "<table border=\"1\" class=\"dataframe\">\n",
       "  <thead>\n",
       "    <tr style=\"text-align: right;\">\n",
       "      <th></th>\n",
       "      <th>Quartos</th>\n",
       "      <th>Banheiros</th>\n",
       "      <th>Estacionamento</th>\n",
       "      <th>area</th>\n",
       "      <th>Bairro</th>\n",
       "    </tr>\n",
       "  </thead>\n",
       "  <tbody>\n",
       "    <tr>\n",
       "      <th>0</th>\n",
       "      <td>3.0</td>\n",
       "      <td>2.0</td>\n",
       "      <td>1.0</td>\n",
       "      <td>75.0</td>\n",
       "      <td>8.0</td>\n",
       "    </tr>\n",
       "  </tbody>\n",
       "</table>\n",
       "</div>"
      ],
      "text/plain": [
       "   Quartos  Banheiros  Estacionamento  area  Bairro\n",
       "0      3.0        2.0             1.0  75.0     8.0"
      ]
     },
     "execution_count": 458,
     "metadata": {},
     "output_type": "execute_result"
    }
   ],
   "source": [
    "test_sample.iloc[0].to_frame().T"
   ]
  },
  {
   "cell_type": "code",
   "execution_count": 459,
   "id": "2490f59e",
   "metadata": {},
   "outputs": [],
   "source": [
    "ta = test_sample.iloc[0].to_frame().T"
   ]
  },
  {
   "cell_type": "code",
   "execution_count": 460,
   "id": "15d9c188",
   "metadata": {},
   "outputs": [
    {
     "data": {
      "text/html": [
       "<div>\n",
       "<style scoped>\n",
       "    .dataframe tbody tr th:only-of-type {\n",
       "        vertical-align: middle;\n",
       "    }\n",
       "\n",
       "    .dataframe tbody tr th {\n",
       "        vertical-align: top;\n",
       "    }\n",
       "\n",
       "    .dataframe thead th {\n",
       "        text-align: right;\n",
       "    }\n",
       "</style>\n",
       "<table border=\"1\" class=\"dataframe\">\n",
       "  <thead>\n",
       "    <tr style=\"text-align: right;\">\n",
       "      <th></th>\n",
       "      <th>Quartos</th>\n",
       "      <th>Banheiros</th>\n",
       "      <th>Estacionamento</th>\n",
       "      <th>area</th>\n",
       "      <th>Bairro</th>\n",
       "    </tr>\n",
       "  </thead>\n",
       "  <tbody>\n",
       "    <tr>\n",
       "      <th>0</th>\n",
       "      <td>3</td>\n",
       "      <td>2</td>\n",
       "      <td>1.0</td>\n",
       "      <td>75.0</td>\n",
       "      <td>8.0</td>\n",
       "    </tr>\n",
       "    <tr>\n",
       "      <th>1</th>\n",
       "      <td>1</td>\n",
       "      <td>1</td>\n",
       "      <td>1.0</td>\n",
       "      <td>35.0</td>\n",
       "      <td>2.0</td>\n",
       "    </tr>\n",
       "    <tr>\n",
       "      <th>2</th>\n",
       "      <td>4</td>\n",
       "      <td>44</td>\n",
       "      <td>4.0</td>\n",
       "      <td>307.0</td>\n",
       "      <td>0.0</td>\n",
       "    </tr>\n",
       "    <tr>\n",
       "      <th>3</th>\n",
       "      <td>2</td>\n",
       "      <td>1</td>\n",
       "      <td>1.0</td>\n",
       "      <td>58.0</td>\n",
       "      <td>5.0</td>\n",
       "    </tr>\n",
       "    <tr>\n",
       "      <th>4</th>\n",
       "      <td>1</td>\n",
       "      <td>1</td>\n",
       "      <td>0.0</td>\n",
       "      <td>45.0</td>\n",
       "      <td>6.0</td>\n",
       "    </tr>\n",
       "    <tr>\n",
       "      <th>5</th>\n",
       "      <td>3</td>\n",
       "      <td>31</td>\n",
       "      <td>2.0</td>\n",
       "      <td>180.0</td>\n",
       "      <td>4.0</td>\n",
       "    </tr>\n",
       "    <tr>\n",
       "      <th>6</th>\n",
       "      <td>1</td>\n",
       "      <td>1</td>\n",
       "      <td>1.0</td>\n",
       "      <td>35.0</td>\n",
       "      <td>9.0</td>\n",
       "    </tr>\n",
       "    <tr>\n",
       "      <th>7</th>\n",
       "      <td>1</td>\n",
       "      <td>1</td>\n",
       "      <td>0.0</td>\n",
       "      <td>16.0</td>\n",
       "      <td>1.0</td>\n",
       "    </tr>\n",
       "    <tr>\n",
       "      <th>8</th>\n",
       "      <td>1</td>\n",
       "      <td>11</td>\n",
       "      <td>1.0</td>\n",
       "      <td>35.0</td>\n",
       "      <td>7.0</td>\n",
       "    </tr>\n",
       "    <tr>\n",
       "      <th>9</th>\n",
       "      <td>2</td>\n",
       "      <td>1</td>\n",
       "      <td>1.0</td>\n",
       "      <td>65.0</td>\n",
       "      <td>3.0</td>\n",
       "    </tr>\n",
       "  </tbody>\n",
       "</table>\n",
       "</div>"
      ],
      "text/plain": [
       "   Quartos  Banheiros  Estacionamento   area  Bairro\n",
       "0        3          2             1.0   75.0     8.0\n",
       "1        1          1             1.0   35.0     2.0\n",
       "2        4         44             4.0  307.0     0.0\n",
       "3        2          1             1.0   58.0     5.0\n",
       "4        1          1             0.0   45.0     6.0\n",
       "5        3         31             2.0  180.0     4.0\n",
       "6        1          1             1.0   35.0     9.0\n",
       "7        1          1             0.0   16.0     1.0\n",
       "8        1         11             1.0   35.0     7.0\n",
       "9        2          1             1.0   65.0     3.0"
      ]
     },
     "execution_count": 460,
     "metadata": {},
     "output_type": "execute_result"
    }
   ],
   "source": [
    "test_sample"
   ]
  },
  {
   "cell_type": "code",
   "execution_count": 461,
   "id": "ec1c10b6",
   "metadata": {},
   "outputs": [
    {
     "data": {
      "text/plain": [
       "Quartos            3.0\n",
       "Banheiros          2.0\n",
       "Estacionamento     1.0\n",
       "area              75.0\n",
       "Bairro             8.0\n",
       "Name: 0, dtype: float64"
      ]
     },
     "execution_count": 461,
     "metadata": {},
     "output_type": "execute_result"
    }
   ],
   "source": [
    "ta.iloc[0].T"
   ]
  },
  {
   "cell_type": "code",
   "execution_count": 462,
   "id": "2e0b8d38",
   "metadata": {},
   "outputs": [
    {
     "data": {
      "text/plain": [
       "array([[ 2.,  1.,  1., 51.,  6.]])"
      ]
     },
     "execution_count": 462,
     "metadata": {},
     "output_type": "execute_result"
    }
   ],
   "source": [
    "np.array([2.,1.,1.,51.,6.]).reshape((1,-1))"
   ]
  },
  {
   "cell_type": "code",
   "execution_count": 703,
   "id": "4047c4b4",
   "metadata": {},
   "outputs": [
    {
     "data": {
      "text/plain": [
       "array([7.49976946])"
      ]
     },
     "execution_count": 703,
     "metadata": {},
     "output_type": "execute_result"
    }
   ],
   "source": [
    "pipe.predict(np.array([2.,1.,1.,51.,6.]).reshape(1,-1))"
   ]
  },
  {
   "cell_type": "code",
   "execution_count": 705,
   "id": "a580cc08",
   "metadata": {},
   "outputs": [
    {
     "data": {
      "text/plain": [
       "708        Vila Sônia\n",
       "419         Pinheiros\n",
       "38         Itaim Bibi\n",
       "545    Parada Inglesa\n",
       "95       Vila Buarque\n",
       "576        Campo Belo\n",
       "804           Tatuapé\n",
       "827       Santo Amaro\n",
       "653        Vila Sônia\n",
       "34       Alto da Lapa\n",
       "Name: Bairro, dtype: object"
      ]
     },
     "execution_count": 705,
     "metadata": {},
     "output_type": "execute_result"
    }
   ],
   "source": [
    "test_bairro"
   ]
  },
  {
   "cell_type": "code",
   "execution_count": 704,
   "id": "f79d0227",
   "metadata": {},
   "outputs": [
    {
     "data": {
      "text/html": [
       "<div>\n",
       "<style scoped>\n",
       "    .dataframe tbody tr th:only-of-type {\n",
       "        vertical-align: middle;\n",
       "    }\n",
       "\n",
       "    .dataframe tbody tr th {\n",
       "        vertical-align: top;\n",
       "    }\n",
       "\n",
       "    .dataframe thead th {\n",
       "        text-align: right;\n",
       "    }\n",
       "</style>\n",
       "<table border=\"1\" class=\"dataframe\">\n",
       "  <thead>\n",
       "    <tr style=\"text-align: right;\">\n",
       "      <th></th>\n",
       "      <th>Quartos</th>\n",
       "      <th>Banheiros</th>\n",
       "      <th>Estacionamento</th>\n",
       "      <th>area</th>\n",
       "      <th>Bairro</th>\n",
       "    </tr>\n",
       "  </thead>\n",
       "  <tbody>\n",
       "    <tr>\n",
       "      <th>708</th>\n",
       "      <td>2</td>\n",
       "      <td>21</td>\n",
       "      <td>1.0</td>\n",
       "      <td>77.0</td>\n",
       "      <td>8.0</td>\n",
       "    </tr>\n",
       "    <tr>\n",
       "      <th>419</th>\n",
       "      <td>2</td>\n",
       "      <td>52</td>\n",
       "      <td>2.0</td>\n",
       "      <td>148.0</td>\n",
       "      <td>4.0</td>\n",
       "    </tr>\n",
       "    <tr>\n",
       "      <th>38</th>\n",
       "      <td>1</td>\n",
       "      <td>11</td>\n",
       "      <td>1.0</td>\n",
       "      <td>50.0</td>\n",
       "      <td>2.0</td>\n",
       "    </tr>\n",
       "    <tr>\n",
       "      <th>545</th>\n",
       "      <td>2</td>\n",
       "      <td>21</td>\n",
       "      <td>1.0</td>\n",
       "      <td>48.0</td>\n",
       "      <td>3.0</td>\n",
       "    </tr>\n",
       "    <tr>\n",
       "      <th>95</th>\n",
       "      <td>1</td>\n",
       "      <td>1</td>\n",
       "      <td>0.0</td>\n",
       "      <td>75.0</td>\n",
       "      <td>7.0</td>\n",
       "    </tr>\n",
       "    <tr>\n",
       "      <th>576</th>\n",
       "      <td>2</td>\n",
       "      <td>2</td>\n",
       "      <td>1.0</td>\n",
       "      <td>70.0</td>\n",
       "      <td>1.0</td>\n",
       "    </tr>\n",
       "    <tr>\n",
       "      <th>804</th>\n",
       "      <td>3</td>\n",
       "      <td>21</td>\n",
       "      <td>2.0</td>\n",
       "      <td>70.0</td>\n",
       "      <td>6.0</td>\n",
       "    </tr>\n",
       "    <tr>\n",
       "      <th>827</th>\n",
       "      <td>2</td>\n",
       "      <td>31</td>\n",
       "      <td>2.0</td>\n",
       "      <td>120.0</td>\n",
       "      <td>5.0</td>\n",
       "    </tr>\n",
       "    <tr>\n",
       "      <th>653</th>\n",
       "      <td>2</td>\n",
       "      <td>11</td>\n",
       "      <td>0.0</td>\n",
       "      <td>55.0</td>\n",
       "      <td>8.0</td>\n",
       "    </tr>\n",
       "    <tr>\n",
       "      <th>34</th>\n",
       "      <td>3</td>\n",
       "      <td>31</td>\n",
       "      <td>2.0</td>\n",
       "      <td>120.0</td>\n",
       "      <td>0.0</td>\n",
       "    </tr>\n",
       "  </tbody>\n",
       "</table>\n",
       "</div>"
      ],
      "text/plain": [
       "     Quartos  Banheiros  Estacionamento   area  Bairro\n",
       "708        2         21             1.0   77.0     8.0\n",
       "419        2         52             2.0  148.0     4.0\n",
       "38         1         11             1.0   50.0     2.0\n",
       "545        2         21             1.0   48.0     3.0\n",
       "95         1          1             0.0   75.0     7.0\n",
       "576        2          2             1.0   70.0     1.0\n",
       "804        3         21             2.0   70.0     6.0\n",
       "827        2         31             2.0  120.0     5.0\n",
       "653        2         11             0.0   55.0     8.0\n",
       "34         3         31             2.0  120.0     0.0"
      ]
     },
     "execution_count": 704,
     "metadata": {},
     "output_type": "execute_result"
    }
   ],
   "source": [
    "test_sample"
   ]
  },
  {
   "cell_type": "code",
   "execution_count": 464,
   "id": "5a3cb89c",
   "metadata": {},
   "outputs": [
    {
     "name": "stderr",
     "output_type": "stream",
     "text": [
      "c:\\python\\lib\\site-packages\\sklearn\\base.py:443: UserWarning: X has feature names, but SimpleImputer was fitted without feature names\n",
      "  warnings.warn(\n"
     ]
    },
    {
     "data": {
      "text/plain": [
       "array([7.53659253, 7.36390361, 9.40247486, 7.49923603, 7.25296088,\n",
       "       8.64033929, 7.53602891, 7.04686812, 7.83316122, 7.41092365])"
      ]
     },
     "execution_count": 464,
     "metadata": {},
     "output_type": "execute_result"
    }
   ],
   "source": [
    "pipe.predict(test_sample)"
   ]
  },
  {
   "cell_type": "code",
   "execution_count": 465,
   "id": "c13553ea",
   "metadata": {},
   "outputs": [
    {
     "data": {
      "text/plain": [
       "795     1300.0\n",
       "48      2200.0\n",
       "44     33000.0\n",
       "262     1800.0\n",
       "615      900.0\n",
       "830     3500.0\n",
       "626     1400.0\n",
       "300     1150.0\n",
       "716     3700.0\n",
       "487     2100.0\n",
       "Name: Preco, dtype: float64"
      ]
     },
     "execution_count": 465,
     "metadata": {},
     "output_type": "execute_result"
    }
   ],
   "source": [
    "test_sample_true"
   ]
  },
  {
   "cell_type": "code",
   "execution_count": 467,
   "id": "9c98ad1f",
   "metadata": {},
   "outputs": [
    {
     "data": {
      "text/plain": [
       "0.792093933998071"
      ]
     },
     "execution_count": 467,
     "metadata": {},
     "output_type": "execute_result"
    }
   ],
   "source": [
    "pipe.score(test_sample.values, np.log(test_sample_true))"
   ]
  },
  {
   "cell_type": "code",
   "execution_count": 324,
   "id": "ded658d4",
   "metadata": {},
   "outputs": [
    {
     "data": {
      "text/html": [
       "<div>\n",
       "<style scoped>\n",
       "    .dataframe tbody tr th:only-of-type {\n",
       "        vertical-align: middle;\n",
       "    }\n",
       "\n",
       "    .dataframe tbody tr th {\n",
       "        vertical-align: top;\n",
       "    }\n",
       "\n",
       "    .dataframe thead th {\n",
       "        text-align: right;\n",
       "    }\n",
       "</style>\n",
       "<table border=\"1\" class=\"dataframe\">\n",
       "  <thead>\n",
       "    <tr style=\"text-align: right;\">\n",
       "      <th></th>\n",
       "      <th>Quartos</th>\n",
       "      <th>Banheiros</th>\n",
       "      <th>Estacionamento</th>\n",
       "      <th>area</th>\n",
       "      <th>Bairro</th>\n",
       "    </tr>\n",
       "  </thead>\n",
       "  <tbody>\n",
       "    <tr>\n",
       "      <th>683</th>\n",
       "      <td>2</td>\n",
       "      <td>1</td>\n",
       "      <td>1.0</td>\n",
       "      <td>51.0</td>\n",
       "      <td>6.0</td>\n",
       "    </tr>\n",
       "    <tr>\n",
       "      <th>875</th>\n",
       "      <td>0</td>\n",
       "      <td>0</td>\n",
       "      <td>0.0</td>\n",
       "      <td>870.0</td>\n",
       "      <td>4.0</td>\n",
       "    </tr>\n",
       "    <tr>\n",
       "      <th>259</th>\n",
       "      <td>2</td>\n",
       "      <td>21</td>\n",
       "      <td>2.0</td>\n",
       "      <td>87.0</td>\n",
       "      <td>8.0</td>\n",
       "    </tr>\n",
       "    <tr>\n",
       "      <th>725</th>\n",
       "      <td>1</td>\n",
       "      <td>1</td>\n",
       "      <td>1.0</td>\n",
       "      <td>40.0</td>\n",
       "      <td>3.0</td>\n",
       "    </tr>\n",
       "    <tr>\n",
       "      <th>622</th>\n",
       "      <td>2</td>\n",
       "      <td>1</td>\n",
       "      <td>0.0</td>\n",
       "      <td>65.0</td>\n",
       "      <td>9.0</td>\n",
       "    </tr>\n",
       "    <tr>\n",
       "      <th>617</th>\n",
       "      <td>1</td>\n",
       "      <td>21</td>\n",
       "      <td>1.0</td>\n",
       "      <td>51.0</td>\n",
       "      <td>5.0</td>\n",
       "    </tr>\n",
       "    <tr>\n",
       "      <th>527</th>\n",
       "      <td>2</td>\n",
       "      <td>21</td>\n",
       "      <td>1.0</td>\n",
       "      <td>56.0</td>\n",
       "      <td>0.0</td>\n",
       "    </tr>\n",
       "    <tr>\n",
       "      <th>289</th>\n",
       "      <td>3</td>\n",
       "      <td>43</td>\n",
       "      <td>3.0</td>\n",
       "      <td>134.0</td>\n",
       "      <td>2.0</td>\n",
       "    </tr>\n",
       "    <tr>\n",
       "      <th>717</th>\n",
       "      <td>1</td>\n",
       "      <td>1</td>\n",
       "      <td>0.0</td>\n",
       "      <td>26.0</td>\n",
       "      <td>7.0</td>\n",
       "    </tr>\n",
       "    <tr>\n",
       "      <th>21</th>\n",
       "      <td>2</td>\n",
       "      <td>21</td>\n",
       "      <td>1.0</td>\n",
       "      <td>57.0</td>\n",
       "      <td>1.0</td>\n",
       "    </tr>\n",
       "  </tbody>\n",
       "</table>\n",
       "</div>"
      ],
      "text/plain": [
       "     Quartos  Banheiros  Estacionamento   area  Bairro\n",
       "683        2          1             1.0   51.0     6.0\n",
       "875        0          0             0.0  870.0     4.0\n",
       "259        2         21             2.0   87.0     8.0\n",
       "725        1          1             1.0   40.0     3.0\n",
       "622        2          1             0.0   65.0     9.0\n",
       "617        1         21             1.0   51.0     5.0\n",
       "527        2         21             1.0   56.0     0.0\n",
       "289        3         43             3.0  134.0     2.0\n",
       "717        1          1             0.0   26.0     7.0\n",
       "21         2         21             1.0   57.0     1.0"
      ]
     },
     "execution_count": 324,
     "metadata": {},
     "output_type": "execute_result"
    }
   ],
   "source": [
    "test_sample"
   ]
  },
  {
   "cell_type": "code",
   "execution_count": null,
   "id": "489e1cf5",
   "metadata": {},
   "outputs": [],
   "source": []
  },
  {
   "cell_type": "code",
   "execution_count": null,
   "id": "0f739feb",
   "metadata": {},
   "outputs": [],
   "source": []
  }
 ],
 "metadata": {
  "kernelspec": {
   "display_name": "Python 3 (ipykernel)",
   "language": "python",
   "name": "python3"
  },
  "language_info": {
   "codemirror_mode": {
    "name": "ipython",
    "version": 3
   },
   "file_extension": ".py",
   "mimetype": "text/x-python",
   "name": "python",
   "nbconvert_exporter": "python",
   "pygments_lexer": "ipython3",
   "version": "3.9.7"
  }
 },
 "nbformat": 4,
 "nbformat_minor": 5
}
